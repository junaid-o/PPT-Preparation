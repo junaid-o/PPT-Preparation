{
 "cells": [
  {
   "cell_type": "markdown",
   "id": "d763278f-996b-4722-b733-88aff2d79f1c",
   "metadata": {},
   "source": [
    "# <center>Module 02: Data Science</center>\n",
    "# <center>Assignment_01</center>"
   ]
  },
  {
   "cell_type": "markdown",
   "id": "74080b14-ea78-4323-8293-aecc31be2bec",
   "metadata": {
    "jp-MarkdownHeadingCollapsed": true
   },
   "source": [
    "## Question 01:\n",
    "Write a Python program to reverse a string without using any built-in string reversal functions."
   ]
  },
  {
   "cell_type": "code",
   "execution_count": 4,
   "id": "aaebea56-7da1-4c53-bf51-1ce78e37683b",
   "metadata": {},
   "outputs": [
    {
     "name": "stdout",
     "output_type": "stream",
     "text": [
      "Reversed string: dlroW olleH\n"
     ]
    }
   ],
   "source": [
    "def reverse_string(input_str):\n",
    "    reversed_str = \"\"\n",
    "    for char in input_str:\n",
    "        reversed_str = char + reversed_str\n",
    "    return reversed_str\n",
    "\n",
    "################################ Test\n",
    "input_string = \"Hello World\"\n",
    "reversed_string = reverse_string(input_string)\n",
    "print(\"Reversed string:\", reversed_string)\n"
   ]
  },
  {
   "cell_type": "markdown",
   "id": "313924f5-a808-4b05-abb7-83e0db7572cc",
   "metadata": {
    "jp-MarkdownHeadingCollapsed": true
   },
   "source": [
    "## Question 02\n",
    "\n",
    "Implement a function to check if a given string is a palindrome.\n"
   ]
  },
  {
   "cell_type": "code",
   "execution_count": 15,
   "id": "33834874-ec80-406d-b2a7-f778ed18778b",
   "metadata": {},
   "outputs": [
    {
     "name": "stdout",
     "output_type": "stream",
     "text": [
      "Entered String is Palindrome\n"
     ]
    }
   ],
   "source": [
    "def is_palindrome(string):\n",
    "    string = string.lower()\n",
    "    if string==string[::-1]:\n",
    "        return \"Palindrome\"\n",
    "    return \"Not a palindrome\"\n",
    "\n",
    "############## TEST\n",
    "\n",
    "input_string = \"MADAM\"\n",
    "\n",
    "print(f\"Entered String is\", is_palindrome(input_string))"
   ]
  },
  {
   "cell_type": "markdown",
   "id": "c421fd45-fc4d-4a9b-9f32-a5da9c6b7927",
   "metadata": {
    "jp-MarkdownHeadingCollapsed": true
   },
   "source": [
    "## Question 03\n",
    "\n",
    "Write a program to find the largest element in a given list"
   ]
  },
  {
   "cell_type": "code",
   "execution_count": 23,
   "id": "642e0599-70a2-4b07-b21d-90125278c34a",
   "metadata": {},
   "outputs": [
    {
     "name": "stdout",
     "output_type": "stream",
     "text": [
      "Largest element: 9\n"
     ]
    }
   ],
   "source": [
    "def find_largest_element(lst):\n",
    "    if not lst:\n",
    "        return None\n",
    "    largest = float('-inf')\n",
    "    #largest = lst[0]\n",
    "    \n",
    "    for num in lst:\n",
    "        if num > largest:\n",
    "            largest = num\n",
    "    return largest\n",
    "\n",
    "\n",
    "################## TEST\n",
    "################### TEST\n",
    "\n",
    "my_list = [3, 8, 1, 6, 2, 9, 4]\n",
    "largest_element = find_largest_element(my_list)\n",
    "print(\"Largest element:\", largest_element)\n"
   ]
  },
  {
   "cell_type": "markdown",
   "id": "cd5d194a-74e6-43b3-8036-c7a4f8485d40",
   "metadata": {},
   "source": [
    "#### Divide and Conquer Approach"
   ]
  },
  {
   "cell_type": "code",
   "execution_count": 25,
   "id": "fcb1c5d7-e79d-415a-8ec8-aaf2af81e1bc",
   "metadata": {},
   "outputs": [
    {
     "name": "stdout",
     "output_type": "stream",
     "text": [
      "Largest element: 9\n"
     ]
    }
   ],
   "source": [
    "############# Using Divide and Conquer Approach\n",
    "################ Applicable on sorted aray\n",
    "############ Time Complexity Big O(1) --> constant time complexity\n",
    "\n",
    "\n",
    "def find_largest_element(list):\n",
    "    if not list:\n",
    "        return None\n",
    "    return find_largest_element_helper(list, 0, len(list) - 1)\n",
    "\n",
    "def find_largest_element_helper(list, start, end):\n",
    "    if start == end:\n",
    "        return list[start]\n",
    "    mid = (start + end) // 2\n",
    "    left_max = find_largest_element_helper(list, start, mid)\n",
    "    right_max = find_largest_element_helper(list, mid + 1, end)\n",
    "    \n",
    "    return max(left_max, right_max)\n",
    "\n",
    "####################### TEST\n",
    "####################### TEST\n",
    "\n",
    "my_list = [3, 8, 1, 6, 2, 9, 4]\n",
    "sorted_list = sorted(my_list) ### Sorting because divide and conquer is applicable on sorted arra\n",
    "largest_element = find_largest_element(sorted_list)\n",
    "print(\"Largest element:\", largest_element)\n"
   ]
  },
  {
   "cell_type": "markdown",
   "id": "a440ab01-69c0-48ae-b5be-e168deb565f1",
   "metadata": {
    "jp-MarkdownHeadingCollapsed": true
   },
   "source": [
    "## Question 04:\n",
    "\n",
    "Implement a function to count the occurrence of each element in a list."
   ]
  },
  {
   "cell_type": "code",
   "execution_count": 17,
   "id": "8ff6a0fe-e877-4426-8b15-d222f71c41c0",
   "metadata": {},
   "outputs": [
    {
     "name": "stdout",
     "output_type": "stream",
     "text": [
      "{1: 2, 2: 2, 3: 3, 4: 3, 5: 1}\n"
     ]
    }
   ],
   "source": [
    "def count_occurrences(lst):\n",
    "    occurrences = {}\n",
    "    for element in lst:\n",
    "        if element in occurrences:\n",
    "            occurrences[element] += 1\n",
    "        else:\n",
    "            occurrences[element] = 1\n",
    "    return occurrences\n",
    "\n",
    "############## TEST\n",
    "############## TEST\n",
    "\n",
    "my_list = [1, 2, 3, 2, 1, 3, 3, 4, 5, 4, 4]\n",
    "result = count_occurrences(my_list)\n",
    "print(result)\n"
   ]
  },
  {
   "cell_type": "markdown",
   "id": "f958d538-5ca7-4e1f-a791-a5949f50a474",
   "metadata": {},
   "source": [
    "## Question 05:\n",
    "\n",
    "Write a Python program to find the second largest number in a list"
   ]
  },
  {
   "cell_type": "code",
   "execution_count": 24,
   "id": "a0dbc84a-548d-4bf6-917e-5b400c346705",
   "metadata": {},
   "outputs": [
    {
     "name": "stdout",
     "output_type": "stream",
     "text": [
      "Second largest number: 8\n"
     ]
    }
   ],
   "source": [
    "def find_second_largest(numbers):\n",
    "    if len(numbers) < 2:\n",
    "        return \"List should have at least two numbers\"\n",
    "\n",
    "    largest = float('-inf')  # Initialize largest to negative infinity\n",
    "    second_largest = float('-inf')  # Initialize second_largest to negative infinity\n",
    "\n",
    "    for num in numbers:\n",
    "        if num > largest:\n",
    "            second_largest = largest\n",
    "            largest = num\n",
    "        elif num > second_largest and num != largest:\n",
    "            second_largest = num\n",
    "\n",
    "    if second_largest == float('-inf'):\n",
    "        return \"There is no second largest number\"\n",
    "    else:\n",
    "        return second_largest\n",
    "\n",
    "        \n",
    "############### TEST\n",
    "############## TEST\n",
    "\n",
    "numbers = [5, 2, 8, 12, 3]\n",
    "result = find_second_largest(numbers)\n",
    "print(\"Second largest number:\", result)\n"
   ]
  },
  {
   "cell_type": "markdown",
   "id": "9eca8cbf-3417-475b-b19f-15e7e2664c41",
   "metadata": {},
   "source": [
    "## Question 06:\n",
    "\n",
    "Implement a function to remove duplicate elements from a list."
   ]
  },
  {
   "cell_type": "code",
   "execution_count": 28,
   "id": "8d9823d0-547e-4152-816a-053d03e97fbe",
   "metadata": {},
   "outputs": [
    {
     "data": {
      "text/plain": [
       "[1, 2, 3, 5, 6, 42]"
      ]
     },
     "execution_count": 28,
     "metadata": {},
     "output_type": "execute_result"
    }
   ],
   "source": [
    "def remove_duplicates(lst):\n",
    "    return list(set(lst))\n",
    "\n",
    "############ TEST\n",
    "########## TEST\n",
    "\n",
    "my_list = [1,2,3,42,5,2,6,3,3,5]\n",
    "remove_duplicates(my_list)"
   ]
  },
  {
   "cell_type": "markdown",
   "id": "8b56ae34-00a7-44ad-8dfc-11e4ce75e479",
   "metadata": {},
   "source": [
    "#### Other Approach"
   ]
  },
  {
   "cell_type": "code",
   "execution_count": 32,
   "id": "8412dcf0-4d3c-4ddb-92cc-e1fecfc3c858",
   "metadata": {},
   "outputs": [
    {
     "name": "stdout",
     "output_type": "stream",
     "text": [
      "List without duplicates: [1, 2, 3, 42, 5, 6]\n"
     ]
    }
   ],
   "source": [
    "def remove_duplicates(lst):\n",
    "    result = []\n",
    "    for item in lst:\n",
    "        if item not in result:\n",
    "            result.append(item)\n",
    "    return result\n",
    "\n",
    "########### TEST\n",
    "############ TEST\n",
    "my_list = [1,2,3,42,5,2,6,3,3,5]\n",
    "result = remove_duplicates(my_list)\n",
    "print(\"List without duplicates:\", result)\n"
   ]
  },
  {
   "cell_type": "markdown",
   "id": "33d44279-686a-4a5b-95fe-1553e275d6c7",
   "metadata": {},
   "source": [
    "## Question 07:\n",
    "Write a program to calculate the factorial of a given number."
   ]
  },
  {
   "cell_type": "code",
   "execution_count": 55,
   "id": "f590fc84-fe7f-46b8-9495-b3ab821baceb",
   "metadata": {},
   "outputs": [
    {
     "data": {
      "text/plain": [
       "3628800"
      ]
     },
     "execution_count": 55,
     "metadata": {},
     "output_type": "execute_result"
    }
   ],
   "source": [
    "def factorial(n):\n",
    "    result = 1\n",
    "    while n > 1:\n",
    "        result = result * n\n",
    "        n -= 1\n",
    "    return result\n",
    "\n",
    "############## TEST\n",
    "\n",
    "factorial(10)"
   ]
  },
  {
   "cell_type": "markdown",
   "id": "32fdd0aa-3290-445a-b71e-2f66d60485e6",
   "metadata": {},
   "source": [
    "#### Recursive Approach"
   ]
  },
  {
   "cell_type": "code",
   "execution_count": 54,
   "id": "de6c34a7-66cf-419d-a005-2df3e92ebf23",
   "metadata": {},
   "outputs": [
    {
     "data": {
      "text/plain": [
       "3628800"
      ]
     },
     "execution_count": 54,
     "metadata": {},
     "output_type": "execute_result"
    }
   ],
   "source": [
    "def factorial_recursion(n):\n",
    "    if n==1 or n==0:\n",
    "        return 1\n",
    "    else:\n",
    "        return n * factorial(n-1)\n",
    "\n",
    "############### TEST\n",
    "\n",
    "factorial_recursion(10)"
   ]
  },
  {
   "cell_type": "markdown",
   "id": "7b09528d-330b-4a4e-ae31-ed53c2265952",
   "metadata": {},
   "source": [
    "## Question 08:\n",
    "\n",
    "Implement a function to check if a given number is prime."
   ]
  },
  {
   "cell_type": "code",
   "execution_count": 65,
   "id": "5cff2638-c2fe-43ee-bd55-ee75fc458e6c",
   "metadata": {},
   "outputs": [
    {
     "data": {
      "text/plain": [
       "True"
      ]
     },
     "execution_count": 65,
     "metadata": {},
     "output_type": "execute_result"
    }
   ],
   "source": [
    "def is_prime(n):\n",
    "    if n <2 :\n",
    "        return False\n",
    "    for i in range(2, int(n**0.5)+1):\n",
    "        if n % i == 0:\n",
    "            return False\n",
    "    return True\n",
    "\n",
    "############## TEST\n",
    "############## TEST\n",
    "\n",
    "input_number = 7\n",
    "\n",
    "############## function call\n",
    "is_prime(input_number)"
   ]
  },
  {
   "cell_type": "code",
   "execution_count": null,
   "id": "b21330b3-c4df-4ec0-97d9-e7cfb78cfb06",
   "metadata": {},
   "outputs": [],
   "source": []
  }
 ],
 "metadata": {
  "kernelspec": {
   "display_name": "Python 3 (ipykernel)",
   "language": "python",
   "name": "python3"
  },
  "language_info": {
   "codemirror_mode": {
    "name": "ipython",
    "version": 3
   },
   "file_extension": ".py",
   "mimetype": "text/x-python",
   "name": "python",
   "nbconvert_exporter": "python",
   "pygments_lexer": "ipython3",
   "version": "3.10.8"
  }
 },
 "nbformat": 4,
 "nbformat_minor": 5
}

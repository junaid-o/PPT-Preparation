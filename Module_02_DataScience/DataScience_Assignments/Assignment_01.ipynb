{
 "cells": [
  {
   "cell_type": "markdown",
   "id": "d763278f-996b-4722-b733-88aff2d79f1c",
   "metadata": {},
   "source": [
    "# <center>Module 02: Data Science</center>\n",
    "# <center>Assignment_01</center>"
   ]
  },
  {
   "cell_type": "markdown",
   "id": "74080b14-ea78-4323-8293-aecc31be2bec",
   "metadata": {},
   "source": [
    "## Question 01:\n",
    "Write a Python program to reverse a string without using any built-in string reversal functions."
   ]
  },
  {
   "cell_type": "code",
   "execution_count": 1,
   "id": "aaebea56-7da1-4c53-bf51-1ce78e37683b",
   "metadata": {},
   "outputs": [
    {
     "name": "stdout",
     "output_type": "stream",
     "text": [
      "Reversed string: dlroW olleH\n"
     ]
    }
   ],
   "source": [
    "def reverse_string(input_str):\n",
    "    reversed_str = \"\"\n",
    "    for char in input_str:\n",
    "        reversed_str = char + reversed_str\n",
    "    return reversed_str\n",
    "\n",
    "################################ Test\n",
    "input_string = \"Hello World\"\n",
    "reversed_string = reverse_string(input_string)\n",
    "print(\"Reversed string:\", reversed_string)\n"
   ]
  },
  {
   "cell_type": "markdown",
   "id": "313924f5-a808-4b05-abb7-83e0db7572cc",
   "metadata": {},
   "source": [
    "## Question 02\n",
    "\n",
    "Implement a function to check if a given string is a palindrome.\n"
   ]
  },
  {
   "cell_type": "code",
   "execution_count": 2,
   "id": "33834874-ec80-406d-b2a7-f778ed18778b",
   "metadata": {},
   "outputs": [
    {
     "name": "stdout",
     "output_type": "stream",
     "text": [
      "Entered String is Palindrome\n"
     ]
    }
   ],
   "source": [
    "def is_palindrome(string):\n",
    "    string = string.lower()\n",
    "    if string==string[::-1]:\n",
    "        return \"Palindrome\"\n",
    "    return \"Not a palindrome\"\n",
    "\n",
    "############## TEST\n",
    "\n",
    "input_string = \"MADAM\"\n",
    "\n",
    "print(f\"Entered String is\", is_palindrome(input_string))"
   ]
  },
  {
   "cell_type": "markdown",
   "id": "c421fd45-fc4d-4a9b-9f32-a5da9c6b7927",
   "metadata": {},
   "source": [
    "## Question 03\n",
    "\n",
    "Write a program to find the largest element in a given list"
   ]
  },
  {
   "cell_type": "code",
   "execution_count": 3,
   "id": "642e0599-70a2-4b07-b21d-90125278c34a",
   "metadata": {},
   "outputs": [
    {
     "name": "stdout",
     "output_type": "stream",
     "text": [
      "Largest element: 9\n"
     ]
    }
   ],
   "source": [
    "def find_largest_element(lst):\n",
    "    if not lst:\n",
    "        return None\n",
    "    largest = float('-inf')\n",
    "    #largest = lst[0]\n",
    "    \n",
    "    for num in lst:\n",
    "        if num > largest:\n",
    "            largest = num\n",
    "    return largest\n",
    "\n",
    "\n",
    "################## TEST\n",
    "################### TEST\n",
    "\n",
    "my_list = [3, 8, 1, 6, 2, 9, 4]\n",
    "largest_element = find_largest_element(my_list)\n",
    "print(\"Largest element:\", largest_element)\n"
   ]
  },
  {
   "cell_type": "markdown",
   "id": "cd5d194a-74e6-43b3-8036-c7a4f8485d40",
   "metadata": {},
   "source": [
    "#### Divide and Conquer Approach"
   ]
  },
  {
   "cell_type": "code",
   "execution_count": 4,
   "id": "fcb1c5d7-e79d-415a-8ec8-aaf2af81e1bc",
   "metadata": {},
   "outputs": [
    {
     "name": "stdout",
     "output_type": "stream",
     "text": [
      "Largest element: 9\n"
     ]
    }
   ],
   "source": [
    "############# Using Divide and Conquer Approach\n",
    "################ Applicable on sorted aray\n",
    "############ Time Complexity Big O(1) --> constant time complexity\n",
    "\n",
    "\n",
    "def find_largest_element(list):\n",
    "    if not list:\n",
    "        return None\n",
    "    return find_largest_element_helper(list, 0, len(list) - 1)\n",
    "\n",
    "def find_largest_element_helper(list, start, end):\n",
    "    if start == end:\n",
    "        return list[start]\n",
    "    mid = (start + end) // 2\n",
    "    left_max = find_largest_element_helper(list, start, mid)\n",
    "    right_max = find_largest_element_helper(list, mid + 1, end)\n",
    "    \n",
    "    return max(left_max, right_max)\n",
    "\n",
    "####################### TEST\n",
    "####################### TEST\n",
    "\n",
    "my_list = [3, 8, 1, 6, 2, 9, 4]\n",
    "sorted_list = sorted(my_list) ### Sorting because divide and conquer is applicable on sorted arra\n",
    "largest_element = find_largest_element(sorted_list)\n",
    "print(\"Largest element:\", largest_element)\n"
   ]
  },
  {
   "cell_type": "markdown",
   "id": "a440ab01-69c0-48ae-b5be-e168deb565f1",
   "metadata": {},
   "source": [
    "## Question 04:\n",
    "\n",
    "Implement a function to count the occurrence of each element in a list."
   ]
  },
  {
   "cell_type": "code",
   "execution_count": 5,
   "id": "8ff6a0fe-e877-4426-8b15-d222f71c41c0",
   "metadata": {},
   "outputs": [
    {
     "name": "stdout",
     "output_type": "stream",
     "text": [
      "{1: 2, 2: 2, 3: 3, 4: 3, 5: 1}\n"
     ]
    }
   ],
   "source": [
    "def count_occurrences(lst):\n",
    "    occurrences = {}\n",
    "    for element in lst:\n",
    "        if element in occurrences:\n",
    "            occurrences[element] += 1\n",
    "        else:\n",
    "            occurrences[element] = 1\n",
    "    return occurrences\n",
    "\n",
    "############## TEST\n",
    "############## TEST\n",
    "\n",
    "my_list = [1, 2, 3, 2, 1, 3, 3, 4, 5, 4, 4]\n",
    "result = count_occurrences(my_list)\n",
    "print(result)\n"
   ]
  },
  {
   "cell_type": "markdown",
   "id": "f958d538-5ca7-4e1f-a791-a5949f50a474",
   "metadata": {},
   "source": [
    "## Question 05:\n",
    "\n",
    "Write a Python program to find the second largest number in a list"
   ]
  },
  {
   "cell_type": "code",
   "execution_count": 6,
   "id": "a0dbc84a-548d-4bf6-917e-5b400c346705",
   "metadata": {},
   "outputs": [
    {
     "name": "stdout",
     "output_type": "stream",
     "text": [
      "Second largest number: 8\n"
     ]
    }
   ],
   "source": [
    "def find_second_largest(numbers):\n",
    "    if len(numbers) < 2:\n",
    "        return \"List should have at least two numbers\"\n",
    "\n",
    "    largest = float('-inf')  # Initialize largest to negative infinity\n",
    "    second_largest = float('-inf')  # Initialize second_largest to negative infinity\n",
    "\n",
    "    for num in numbers:\n",
    "        if num > largest:\n",
    "            second_largest = largest\n",
    "            largest = num\n",
    "        elif num > second_largest and num != largest:\n",
    "            second_largest = num\n",
    "\n",
    "    if second_largest == float('-inf'):\n",
    "        return \"There is no second largest number\"\n",
    "    else:\n",
    "        return second_largest\n",
    "\n",
    "        \n",
    "############### TEST\n",
    "############## TEST\n",
    "\n",
    "numbers = [5, 2, 8, 12, 3]\n",
    "result = find_second_largest(numbers)\n",
    "print(\"Second largest number:\", result)\n"
   ]
  },
  {
   "cell_type": "markdown",
   "id": "9eca8cbf-3417-475b-b19f-15e7e2664c41",
   "metadata": {},
   "source": [
    "## Question 06:\n",
    "\n",
    "Implement a function to remove duplicate elements from a list."
   ]
  },
  {
   "cell_type": "code",
   "execution_count": 7,
   "id": "8d9823d0-547e-4152-816a-053d03e97fbe",
   "metadata": {},
   "outputs": [
    {
     "data": {
      "text/plain": [
       "[1, 2, 3, 5, 6, 42]"
      ]
     },
     "execution_count": 7,
     "metadata": {},
     "output_type": "execute_result"
    }
   ],
   "source": [
    "def remove_duplicates(lst):\n",
    "    return list(set(lst))\n",
    "\n",
    "############ TEST\n",
    "########## TEST\n",
    "\n",
    "my_list = [1,2,3,42,5,2,6,3,3,5]\n",
    "remove_duplicates(my_list)"
   ]
  },
  {
   "cell_type": "markdown",
   "id": "8b56ae34-00a7-44ad-8dfc-11e4ce75e479",
   "metadata": {},
   "source": [
    "#### Other Approach"
   ]
  },
  {
   "cell_type": "code",
   "execution_count": 8,
   "id": "8412dcf0-4d3c-4ddb-92cc-e1fecfc3c858",
   "metadata": {},
   "outputs": [
    {
     "name": "stdout",
     "output_type": "stream",
     "text": [
      "List without duplicates: [1, 2, 3, 42, 5, 6]\n"
     ]
    }
   ],
   "source": [
    "def remove_duplicates(lst):\n",
    "    result = []\n",
    "    for item in lst:\n",
    "        if item not in result:\n",
    "            result.append(item)\n",
    "    return result\n",
    "\n",
    "########### TEST\n",
    "############ TEST\n",
    "my_list = [1,2,3,42,5,2,6,3,3,5]\n",
    "result = remove_duplicates(my_list)\n",
    "print(\"List without duplicates:\", result)\n"
   ]
  },
  {
   "cell_type": "markdown",
   "id": "33d44279-686a-4a5b-95fe-1553e275d6c7",
   "metadata": {},
   "source": [
    "## Question 07:\n",
    "Write a program to calculate the factorial of a given number."
   ]
  },
  {
   "cell_type": "code",
   "execution_count": 9,
   "id": "f590fc84-fe7f-46b8-9495-b3ab821baceb",
   "metadata": {},
   "outputs": [
    {
     "data": {
      "text/plain": [
       "3628800"
      ]
     },
     "execution_count": 9,
     "metadata": {},
     "output_type": "execute_result"
    }
   ],
   "source": [
    "def factorial(n):\n",
    "    result = 1\n",
    "    while n > 1:\n",
    "        result = result * n\n",
    "        n -= 1\n",
    "    return result\n",
    "\n",
    "############## TEST\n",
    "\n",
    "factorial(10)"
   ]
  },
  {
   "cell_type": "markdown",
   "id": "32fdd0aa-3290-445a-b71e-2f66d60485e6",
   "metadata": {},
   "source": [
    "#### Recursive Approach"
   ]
  },
  {
   "cell_type": "code",
   "execution_count": 10,
   "id": "de6c34a7-66cf-419d-a005-2df3e92ebf23",
   "metadata": {},
   "outputs": [
    {
     "data": {
      "text/plain": [
       "3628800"
      ]
     },
     "execution_count": 10,
     "metadata": {},
     "output_type": "execute_result"
    }
   ],
   "source": [
    "def factorial_recursion(n):\n",
    "    if n==1 or n==0:\n",
    "        return 1\n",
    "    else:\n",
    "        return n * factorial(n-1)\n",
    "\n",
    "############### TEST\n",
    "\n",
    "factorial_recursion(10)"
   ]
  },
  {
   "cell_type": "markdown",
   "id": "7b09528d-330b-4a4e-ae31-ed53c2265952",
   "metadata": {},
   "source": [
    "## Question 08:\n",
    "\n",
    "Implement a function to check if a given number is prime."
   ]
  },
  {
   "cell_type": "code",
   "execution_count": 11,
   "id": "5cff2638-c2fe-43ee-bd55-ee75fc458e6c",
   "metadata": {},
   "outputs": [
    {
     "data": {
      "text/plain": [
       "True"
      ]
     },
     "execution_count": 11,
     "metadata": {},
     "output_type": "execute_result"
    }
   ],
   "source": [
    "def is_prime(n):\n",
    "    if n <2 :\n",
    "        return False\n",
    "    for i in range(2, int(n**0.5)+1):\n",
    "        if n % i == 0:\n",
    "            return False\n",
    "    return True\n",
    "\n",
    "############## TEST\n",
    "############## TEST\n",
    "\n",
    "input_number = 7\n",
    "\n",
    "############## function call\n",
    "is_prime(input_number)"
   ]
  },
  {
   "cell_type": "markdown",
   "id": "c99a4687-a574-42a9-858e-41f0bc2ce495",
   "metadata": {},
   "source": [
    "## Question 09:\n",
    "\n",
    "Write a Python program to sort a list of integers in ascending order."
   ]
  },
  {
   "cell_type": "markdown",
   "id": "9660de52-7c1c-4676-bc6a-1fd47b6a9489",
   "metadata": {},
   "source": [
    "#### Insertion Sort Approach For Sorting An Array"
   ]
  },
  {
   "cell_type": "code",
   "execution_count": 12,
   "id": "aef832a2-b28b-4d15-a21d-803716661a21",
   "metadata": {},
   "outputs": [
    {
     "name": "stdout",
     "output_type": "stream",
     "text": [
      "Original list: [64, 34, 25, 12, 22, 11, 90, 90, 1, 10, 13, 90]\n",
      "Sorted list in ascending order: [1, 10, 11, 12, 13, 22, 25, 34, 64, 90, 90, 90]\n"
     ]
    }
   ],
   "source": [
    "def insertion_sort(arr):\n",
    "    for i in range(1, len(arr)):\n",
    "        key = arr[i]\n",
    "        j = i - 1\n",
    "        while j >= 0 and key < arr[j]:\n",
    "            arr[j + 1] = arr[j]\n",
    "            j -= 1\n",
    "        arr[j + 1] = key\n",
    "    \n",
    "    return arr\n",
    "\n",
    "###################### TEST\n",
    "###################### TEST\n",
    "    \n",
    "numbers = [64, 34, 25, 12, 22, 11, 90, 90, 1, 10, 13, 90]\n",
    "print(\"Original list:\", numbers)\n",
    "\n",
    "insertion_sort(numbers)\n",
    "\n",
    "print(\"Sorted list in ascending order:\", numbers)\n"
   ]
  },
  {
   "cell_type": "markdown",
   "id": "dc429370-c246-4c1e-8afa-775ebeceee9e",
   "metadata": {},
   "source": [
    "## Question 10\n",
    "Implement a function to find the sum of all numbers in a list"
   ]
  },
  {
   "cell_type": "code",
   "execution_count": 13,
   "id": "afcde86b-034c-4586-9e83-c45a66aeb11a",
   "metadata": {},
   "outputs": [
    {
     "name": "stdout",
     "output_type": "stream",
     "text": [
      "Entered List:  [1, 0, 13, 4, 5, 5, 10]\n",
      "Sum of input numbers 38\n"
     ]
    }
   ],
   "source": [
    "def find_sum(numbers):\n",
    "    total = 0\n",
    "    for num in numbers:\n",
    "        total += num\n",
    "    return total\n",
    "\n",
    "############# TEST\n",
    "################ TEST\n",
    "\n",
    "my_list = [1, 0, 13, 4, 5, 5, 10]\n",
    "result = find_sum(my_list)\n",
    "\n",
    "print(\"Entered List: \", my_list)\n",
    "print(\"Sum of input numbers\", result)"
   ]
  },
  {
   "cell_type": "markdown",
   "id": "ebe488a9-2ab7-4dbf-ba22-6a1febd8552b",
   "metadata": {},
   "source": [
    "## Question 11:\n",
    "\n",
    "Write a program to find the common elements between two lists.\n"
   ]
  },
  {
   "cell_type": "code",
   "execution_count": 14,
   "id": "68c12c40-d2db-4c80-b1d3-b400ddb29699",
   "metadata": {},
   "outputs": [
    {
     "data": {
      "text/plain": [
       "[1, 66, 2]"
      ]
     },
     "execution_count": 14,
     "metadata": {},
     "output_type": "execute_result"
    }
   ],
   "source": [
    "def common_elements(lst_1, lst_2):\n",
    "    if not lst_1 and not lst_2:\n",
    "        return \"Empty Lists\"\n",
    "    elif not lst_1:\n",
    "        return lst_2\n",
    "    elif not lst_2:\n",
    "        return lst_1\n",
    "\n",
    "    else:\n",
    "        \n",
    "        lst_1 = set(lst_1)\n",
    "        lst_2 = set(lst_2)\n",
    "        common_item = []\n",
    "    \n",
    "        if len(lst_1) >= len(lst_2):\n",
    "    \n",
    "            for item in lst_2:\n",
    "                if item in lst_1:\n",
    "                    common_item.append(item)\n",
    "        else:\n",
    "            for item in lst_1:\n",
    "                if item in lst_2:\n",
    "                    common_item.append(item)\n",
    "        return common_item\n",
    "\n",
    "\n",
    "####################### TEST\n",
    "\n",
    "list1 = [1,2,3,4,5,66,9,10,11,5,1,1]\n",
    "list2 = [66,21,2,1]\n",
    "\n",
    "########## function call\n",
    "common_elements(list1, list2)"
   ]
  },
  {
   "cell_type": "markdown",
   "id": "7e69ff82-6903-4984-bd51-5bb6a76f0ff6",
   "metadata": {},
   "source": [
    "## Question 12:\n",
    "\n",
    "Implement a function to check if a given string is an anagram of another string."
   ]
  },
  {
   "cell_type": "code",
   "execution_count": 15,
   "id": "d4e485f6-6be2-4a9e-9d05-a3101dccd1a5",
   "metadata": {},
   "outputs": [
    {
     "name": "stdout",
     "output_type": "stream",
     "text": [
      "True\n"
     ]
    }
   ],
   "source": [
    "def is_anagram(str1, str2):\n",
    "    # Remove spaces and convert strings to lowercase\n",
    "    str1 = str1.replace(\" \", \"\").lower()\n",
    "    str2 = str2.replace(\" \", \"\").lower()\n",
    "\n",
    "    # Check if the lengths of the strings are equal\n",
    "    if len(str1) != len(str2):\n",
    "        return False\n",
    "\n",
    "    # Create dictionaries to store character frequencies\n",
    "    char_freq1 = {}\n",
    "    char_freq2 = {}\n",
    "\n",
    "    # Count the frequency of characters in str1\n",
    "    for char in str1:\n",
    "        if char in char_freq1:\n",
    "            char_freq1[char] += 1\n",
    "        else:\n",
    "            char_freq1[char] = 1\n",
    "\n",
    "    # Count the frequency of characters in str2\n",
    "    for char in str2:\n",
    "        if char in char_freq2:\n",
    "            char_freq2[char] += 1\n",
    "        else:\n",
    "            char_freq2[char] = 1\n",
    "\n",
    "    # Check if the dictionaries are equal\n",
    "    if char_freq1 == char_freq2:\n",
    "        return True\n",
    "    else:\n",
    "        return False\n",
    "\n",
    "################################# TEST\n",
    "################################# TEST\n",
    "\n",
    "string1 = \"listen\"\n",
    "string2 = \"silent\"\n",
    "result = is_anagram(string1, string2)\n",
    "print(result)\n"
   ]
  },
  {
   "cell_type": "markdown",
   "id": "b1836de6-74e8-4330-a28b-7a3e8a2aac7a",
   "metadata": {},
   "source": [
    "## Question 13\n",
    "\n",
    "Write a Python program to generate all permutations of a given string"
   ]
  },
  {
   "cell_type": "code",
   "execution_count": 16,
   "id": "0ef6421a-949f-450a-9876-87802421b1ef",
   "metadata": {},
   "outputs": [
    {
     "name": "stdout",
     "output_type": "stream",
     "text": [
      "abc\n",
      "acb\n",
      "bac\n",
      "bca\n",
      "cab\n",
      "cba\n"
     ]
    }
   ],
   "source": [
    "from itertools import permutations\n",
    "\n",
    "def generate_permutations(string):\n",
    "    # Get all permutations of the string\n",
    "    perms = permutations(string)\n",
    "    \n",
    "    # Convert each permutation tuple to a string\n",
    "    perm_strings = [''.join(perm) for perm in perms]\n",
    "    \n",
    "    return perm_strings\n",
    "\n",
    "######################### TEST\n",
    "######################### TEST\n",
    "\n",
    "string = \"abc\"\n",
    "\n",
    "############ function call\n",
    "permutations = generate_permutations(string)\n",
    "\n",
    "for perm in permutations:\n",
    "    print(perm)\n"
   ]
  },
  {
   "cell_type": "markdown",
   "id": "ac49c778-bd5b-4ec7-96f0-aac49253f8a8",
   "metadata": {},
   "source": [
    "## Question 14:\n",
    "\n",
    "Implement a function to calculate the Fibonacci sequence up to a given number of terms.\n"
   ]
  },
  {
   "cell_type": "code",
   "execution_count": 17,
   "id": "8c3f1c26-3588-4025-9327-651d2d07f626",
   "metadata": {},
   "outputs": [
    {
     "name": "stdout",
     "output_type": "stream",
     "text": [
      "Fibonacci series of 20 :\n",
      "0, 1, 1, 2, 3, 5, 8, 13, 21, 34, 55, 89, 144, 233, 377, 610, 987, 1597, 2584, 4181, "
     ]
    }
   ],
   "source": [
    "def fibonacci(n):\n",
    "    if n <= 0:\n",
    "        #print(\"Incorrect input\")\n",
    "        raise \"Incorrect input\"\n",
    "    elif n==1:\n",
    "        return 0\n",
    "    elif n==2:\n",
    "        return 1\n",
    "    else:\n",
    "        return fibonacci(n-1) + fibonacci(n-2)\n",
    "\n",
    "################ TEST\n",
    "################ TEST\n",
    "\n",
    "n = 20\n",
    "print(\"Fibonacci series of\", n, \":\")\n",
    "for i in range(1,n+1):\n",
    "    print(fibonacci(i), end = \", \")\n"
   ]
  },
  {
   "cell_type": "markdown",
   "id": "d6c2f93b-8319-414c-ba46-60390b14b582",
   "metadata": {},
   "source": [
    "## Question 15:\n",
    "\n",
    "Write a program to find the median of a list of numbers."
   ]
  },
  {
   "cell_type": "code",
   "execution_count": 18,
   "id": "0bb6046c-1183-4232-9775-452f9fa620d3",
   "metadata": {},
   "outputs": [
    {
     "name": "stdout",
     "output_type": "stream",
     "text": [
      "Median: 5\n"
     ]
    }
   ],
   "source": [
    "def find_median(numbers):\n",
    "    sorted_numbers = sorted(numbers)\n",
    "    length = len(sorted_numbers)\n",
    "    \n",
    "    if length % 2 == 1:  # Odd length\n",
    "        median = sorted_numbers[length // 2]\n",
    "    else:  # Even length\n",
    "        mid_right = length // 2\n",
    "        mid_left = mid_right - 1\n",
    "        median = (sorted_numbers[mid_left] + sorted_numbers[mid_right]) / 2\n",
    "    \n",
    "    return median\n",
    "\n",
    "#################### TEST\n",
    "#################### TEST\n",
    "\n",
    "\n",
    "numbers = [5, 2, 9, 1, 7, 6, 3, 8, 4]\n",
    "median = find_median(numbers)\n",
    "print(\"Median:\", median)\n"
   ]
  },
  {
   "cell_type": "markdown",
   "id": "992c9beb-2fc9-4618-8093-bfd12a70cba2",
   "metadata": {},
   "source": [
    "## Question 16\n",
    "\n",
    "Implement a function to check if a given list is sorted in non-decreasing order."
   ]
  },
  {
   "cell_type": "code",
   "execution_count": 19,
   "id": "07906dff-1d68-417f-b677-2913914372ac",
   "metadata": {},
   "outputs": [
    {
     "name": "stdout",
     "output_type": "stream",
     "text": [
      "True\n",
      "False\n"
     ]
    }
   ],
   "source": [
    "def is_sorted_non_decreasing(lst):\n",
    "    for i in range(len(lst) - 1):\n",
    "        if lst[i] > lst[i + 1]:\n",
    "            return False\n",
    "    return True\n",
    "\n",
    "########################### TEST\n",
    "########################### TEST\n",
    "\n",
    "\n",
    "numbers = [1, 2, 3, 4, 5]\n",
    "print(is_sorted_non_decreasing(numbers))  # Output: True\n",
    "\n",
    "numbers = [5, 2, 9, 1, 7]\n",
    "print(is_sorted_non_decreasing(numbers))  # Output: False\n"
   ]
  },
  {
   "cell_type": "markdown",
   "id": "e001bcbb-e7af-4090-a9b8-abcb8241ca28",
   "metadata": {},
   "source": [
    "## Question 17\n",
    "\n",
    "Write a Python program to find the intersection of two lists."
   ]
  },
  {
   "cell_type": "code",
   "execution_count": 20,
   "id": "5fff1150-f57e-4ff2-96b1-b41691900f6f",
   "metadata": {},
   "outputs": [
    {
     "name": "stdout",
     "output_type": "stream",
     "text": [
      "[4, 5]\n",
      "[]\n"
     ]
    }
   ],
   "source": [
    "def find_intersection(list1, list2):\n",
    "    intersection = []\n",
    "    for element in list1:\n",
    "        if element in list2:\n",
    "            intersection.append(element)\n",
    "    return intersection\n",
    "\n",
    "############################# TEST\n",
    "############################# TEST\n",
    "\n",
    "list1 = [1, 2, 3, 4, 5]\n",
    "list2 = [4, 5, 6, 7, 8]\n",
    "print(find_intersection(list1, list2))  # Output: [4, 5]\n",
    "\n",
    "\n",
    "list1 = [1, 2, 3]\n",
    "list2 = [4, 5, 6]\n",
    "print(find_intersection(list1, list2))  # Output: []\n"
   ]
  },
  {
   "cell_type": "markdown",
   "id": "ee05da45-3e5e-4bdd-a7ba-6a1c18217eb6",
   "metadata": {},
   "source": [
    "## Question 18:\n",
    "\n",
    "Implement a function to find the maximum subarray sum in a given list."
   ]
  },
  {
   "cell_type": "code",
   "execution_count": 21,
   "id": "474122e1-22f9-429e-b91a-ff78465e1eb7",
   "metadata": {},
   "outputs": [],
   "source": [
    "#### Kadanes Algorithm"
   ]
  },
  {
   "cell_type": "code",
   "execution_count": 22,
   "id": "3fd1e828-a150-4d9e-93db-d331c34464c4",
   "metadata": {},
   "outputs": [
    {
     "name": "stdout",
     "output_type": "stream",
     "text": [
      "6\n"
     ]
    }
   ],
   "source": [
    "def find_max_subarray_sum(arr):\n",
    "    if len(arr) == 0:\n",
    "        return 0\n",
    "    \n",
    "    max_sum = float('-inf')  # Initialize the maximum sum as negative infinity\n",
    "    current_sum = 0  # Initialize the current sum as 0\n",
    "    \n",
    "    for num in arr:\n",
    "        current_sum = max(num, current_sum + num)\n",
    "        max_sum = max(max_sum, current_sum)\n",
    "    \n",
    "    return max_sum\n",
    "\n",
    "############################# TEST\n",
    "############################# TEST\n",
    "\n",
    "arr = [-2, 1, -3, 4, -1, 2, 1, -5, 4]\n",
    "\n",
    "########## function call\n",
    "\n",
    "max_sum = find_max_subarray_sum(arr)\n",
    "print(max_sum)\n"
   ]
  },
  {
   "cell_type": "markdown",
   "id": "ca4c32f1-6425-4335-b334-5804ffb1b1e3",
   "metadata": {},
   "source": [
    "## Question 19\n",
    "\n",
    "Write a program to remove all vowels from a given string"
   ]
  },
  {
   "cell_type": "code",
   "execution_count": 23,
   "id": "4583bd02-eb6e-40b2-b980-b609cdf57b55",
   "metadata": {},
   "outputs": [
    {
     "name": "stdout",
     "output_type": "stream",
     "text": [
      "Hll, Wrld!\n"
     ]
    }
   ],
   "source": [
    "def remove_vowels(string):\n",
    "    vowels = ['a', 'e', 'i', 'o', 'u', 'A', 'E', 'I', 'O', 'U']\n",
    "    result = \"\"\n",
    "    \n",
    "    for char in string:\n",
    "        if char not in vowels:\n",
    "            result += char\n",
    "    \n",
    "    return result\n",
    "\n",
    "############################ TEST\n",
    "\n",
    "input_string = \"Hello, World!\"\n",
    "output_string = remove_vowels(input_string)\n",
    "print(output_string)  # Output: Hll, Wrld!"
   ]
  },
  {
   "cell_type": "markdown",
   "id": "0e00af9d-0a21-43bc-8bed-4bc6e3ebdf5e",
   "metadata": {},
   "source": [
    "## Question 20\n",
    "\n",
    "Implement a function to reverse the order of words in a given sentence"
   ]
  },
  {
   "cell_type": "raw",
   "id": "dd0ba30d-e9e3-4bdd-a297-d2c5d7e85aa5",
   "metadata": {},
   "source": [
    "def reverse_words(string):\n",
    "    str_list = string.split(' ')\n",
    "    reversed_list = ''\n",
    "    for word in str_list:\n",
    "        reversed_list = word + \" \" + reversed_list\n",
    "        \n",
    "    return reversed_list.strip()\n",
    "\n",
    "############################ TEST\n",
    "input_str = \"Hello World\"\n",
    "reversed_str = reverse_words(input_str)\n",
    "print(reversed_str)  # Output: \"World Hello\"\n"
   ]
  },
  {
   "cell_type": "code",
   "execution_count": 24,
   "id": "f298c0e4-a1d1-44ce-a190-38c5fe2c7d1b",
   "metadata": {},
   "outputs": [
    {
     "name": "stdout",
     "output_type": "stream",
     "text": [
      "Input String:  Hello, how are you?\n",
      "Reversed String:  you? are how Hello,\n"
     ]
    }
   ],
   "source": [
    "def reverse_words(sentence):\n",
    "    # Split the sentence into a list of words\n",
    "    words = sentence.split()\n",
    "    \n",
    "    # Reverse the order of words\n",
    "    reversed_words = words[::-1]\n",
    "    \n",
    "    # Join the reversed words to form a new sentence\n",
    "    reversed_sentence = ' '.join(reversed_words)\n",
    "    \n",
    "    return reversed_sentence\n",
    "\n",
    "###################### TEST\n",
    "###################### TEST\n",
    "\n",
    "input_sentence = \"Hello, how are you?\"\n",
    "output_sentence = reverse_words(input_sentence)\n",
    "\n",
    "print(\"Input String: \", input_sentence)\n",
    "print(\"Reversed String: \", output_sentence)\n"
   ]
  },
  {
   "cell_type": "markdown",
   "id": "4d6335cd-8294-4274-9395-c8ef205467d8",
   "metadata": {},
   "source": [
    "## Question 21\n",
    "\n",
    "Write a Python program to check if two strings are anagrams of each other.\n"
   ]
  },
  {
   "cell_type": "markdown",
   "id": "bce8dd2b-cc65-47cc-be4e-1f172f71df0e",
   "metadata": {},
   "source": [
    "\n",
    "To check if two strings are anagrams of each other, you can compare their sorted versions. If the sorted strings are equal, it means they contain the same characters and the same counts, and hence they are anagrams."
   ]
  },
  {
   "cell_type": "code",
   "execution_count": 25,
   "id": "8b60515c-6f9b-4a95-af82-5b916977a6b4",
   "metadata": {},
   "outputs": [
    {
     "name": "stdout",
     "output_type": "stream",
     "text": [
      "The strings are anagrams.\n"
     ]
    }
   ],
   "source": [
    "def check_anagrams(str1, str2):\n",
    "    # Convert both strings to lowercase to ignore case sensitivity\n",
    "    str1 = str1.lower()\n",
    "    str2 = str2.lower()\n",
    "\n",
    "    # Sort the characters of both strings\n",
    "    sorted_str1 = sorted(str1)\n",
    "    sorted_str2 = sorted(str2)\n",
    "\n",
    "    # Check if the sorted strings are equal\n",
    "    if sorted_str1 == sorted_str2:\n",
    "        return True\n",
    "    else:\n",
    "        return False\n",
    "\n",
    "############################ TEST\n",
    "string1 = \"listen\"\n",
    "string2 = \"silent\"\n",
    "if check_anagrams(string1, string2):\n",
    "    print(\"The strings are anagrams.\")\n",
    "else:\n",
    "    print(\"The strings are not anagrams.\")\n"
   ]
  },
  {
   "cell_type": "markdown",
   "id": "052547b8-846a-4201-899f-69bd08b815f5",
   "metadata": {},
   "source": [
    "## Question 22\n",
    "\n",
    "Implement a function to find the first non-repeating character in a string.\r"
   ]
  },
  {
   "cell_type": "code",
   "execution_count": 26,
   "id": "efbd9e28-a33c-494d-885a-737b2dc6a168",
   "metadata": {},
   "outputs": [
    {
     "name": "stdout",
     "output_type": "stream",
     "text": [
      "First non-repeating character: z\n"
     ]
    }
   ],
   "source": [
    "def find_first_non_repeating_char(string):\n",
    "    char_counts = {}  # Dictionary to store character counts\n",
    "\n",
    "    # Count the occurrences of each character\n",
    "    for char in string:\n",
    "        if char in char_counts:\n",
    "            char_counts[char] += 1\n",
    "        else:\n",
    "            char_counts[char] = 1\n",
    "\n",
    "    # Iterate through the string again and find the first non-repeating character\n",
    "    for char in string:\n",
    "        if char_counts[char] == 1:\n",
    "            return char\n",
    "\n",
    "    # If no non-repeating character found, return None\n",
    "    return None\n",
    "\n",
    "###################### Driver code\n",
    "\n",
    "input_str = \"aabbccddeezx\"\n",
    "result = find_first_non_repeating_char(input_str)\n",
    "\n",
    "if result is not None:\n",
    "    print(\"First non-repeating character:\", result)\n",
    "else:\n",
    "    print(\"No non-repeating character found.\")"
   ]
  },
  {
   "cell_type": "markdown",
   "id": "c278266e-3fd8-4cc9-8d4e-2a5c163dffa7",
   "metadata": {},
   "source": [
    "## Question 23\n",
    "\n",
    "Write a program to find the prime factors of a given number."
   ]
  },
  {
   "cell_type": "markdown",
   "id": "b237daba-62dc-4fc8-949a-4642dbd4dfd8",
   "metadata": {},
   "source": [
    "\n",
    "Prime factors of a number are the prime numbers that can divide the given number evenly without leaving a remainder. In other words, prime factors are the prime numbers that multiply together to give the original number."
   ]
  },
  {
   "cell_type": "code",
   "execution_count": 27,
   "id": "af4a41e8-7ebd-4f9d-b182-e5c7e97d1c6b",
   "metadata": {},
   "outputs": [
    {
     "name": "stdout",
     "output_type": "stream",
     "text": [
      "Prime factors of 300 : [2, 2, 3, 5, 5]\n"
     ]
    }
   ],
   "source": [
    "import math\n",
    "\n",
    "def prime_factors(n):\n",
    "    factors = []  # List to store prime factors\n",
    "\n",
    "    # Check if the number is divisible by 2\n",
    "    while n % 2 == 0:\n",
    "        factors.append(2)\n",
    "        n = n // 2\n",
    "\n",
    "    # Check for odd prime factors\n",
    "    for i in range(3, int(math.sqrt(n)) + 1, 2):\n",
    "        while n % i == 0:\n",
    "            factors.append(i)\n",
    "            n = n // i\n",
    "\n",
    "    # If the remaining number is greater than 2, it is a prime factor\n",
    "    if n > 2:\n",
    "        factors.append(n)\n",
    "\n",
    "    return factors\n",
    "\n",
    "##################### TEST\n",
    "number = 300\n",
    "result = prime_factors(number)\n",
    "print(\"Prime factors of\", number, \":\", result)\n"
   ]
  },
  {
   "cell_type": "markdown",
   "id": "6c80ece9-148f-4e50-92f0-871efbe26c2a",
   "metadata": {},
   "source": [
    "## Question 24\n",
    "\n",
    "\n",
    "Implement a function to check if a given number is a power of two"
   ]
  },
  {
   "cell_type": "code",
   "execution_count": 28,
   "id": "0ecd8a44-6213-4e13-9187-0859d88c2016",
   "metadata": {},
   "outputs": [
    {
     "name": "stdin",
     "output_type": "stream",
     "text": [
      "Enter a number:  64\n"
     ]
    },
    {
     "name": "stdout",
     "output_type": "stream",
     "text": [
      "64 is a power of two: True\n"
     ]
    }
   ],
   "source": [
    "def is_power_of_two(n):\n",
    "    if n <= 0:\n",
    "        return False\n",
    "\n",
    "    while n > 1:\n",
    "        #print(n)\n",
    "        # check if the number is odd\n",
    "        if n % 2 != 0:\n",
    "            return False\n",
    "        n = n // 2\n",
    "\n",
    "    return True\n",
    "\n",
    "\n",
    "################################ TEST\n",
    "\n",
    "number = int(input(\"Enter a number: \"))\n",
    "result = is_power_of_two(number)\n",
    "print(number, \"is a power of two:\", result)\n"
   ]
  },
  {
   "cell_type": "markdown",
   "id": "51b7550f-7939-4d31-8d2a-f97ff920a926",
   "metadata": {},
   "source": [
    "## Question 25\n",
    "\n",
    "Write a Python program to merge two sorted lists into a single sorted list."
   ]
  },
  {
   "cell_type": "code",
   "execution_count": 29,
   "id": "a5c1877f-797d-4bab-bfb9-693592219000",
   "metadata": {},
   "outputs": [
    {
     "name": "stdout",
     "output_type": "stream",
     "text": [
      "Merged list: [0, 1, 2, 3, 4, 5, 6, 7, 8, 9, 20, 21, 24]\n"
     ]
    }
   ],
   "source": [
    "def merge_sorted_lists(list1, list2):\n",
    "    merged_list = []\n",
    "    i = 0\n",
    "    j = 0\n",
    "\n",
    "    while i < len(list1) and j < len(list2):\n",
    "        if list1[i] <= list2[j]:\n",
    "            merged_list.append(list1[i])\n",
    "            i += 1\n",
    "        else:\n",
    "            merged_list.append(list2[j])\n",
    "            j += 1\n",
    "\n",
    "    # Append the remaining elements of list1, if any\n",
    "    while i < len(list1):\n",
    "        merged_list.append(list1[i])\n",
    "        i += 1\n",
    "\n",
    "    # Append the remaining elements of list2, if any\n",
    "    while j < len(list2):\n",
    "        merged_list.append(list2[j])\n",
    "        j += 1\n",
    "\n",
    "    return merged_list\n",
    "\n",
    "############################### TEST\n",
    "\n",
    "list1 = [1, 3, 5, 7, 21]\n",
    "list2 = [0, 2, 4, 6, 8, 9, 20,24]\n",
    "\n",
    "merged_list = merge_sorted_lists(list1, list2)\n",
    "print(\"Merged list:\", merged_list)\n"
   ]
  },
  {
   "cell_type": "markdown",
   "id": "99536ca6-3d9e-46de-8dc6-2fb316dbfadc",
   "metadata": {},
   "source": [
    "## Question 26\n",
    "\n",
    "Implement a function to find the mode of a list of numbers.\n"
   ]
  },
  {
   "cell_type": "code",
   "execution_count": 30,
   "id": "914b83ab-fd2b-4547-b9e8-649a83790910",
   "metadata": {},
   "outputs": [
    {
     "name": "stdout",
     "output_type": "stream",
     "text": [
      "Mode: 2\n"
     ]
    }
   ],
   "source": [
    "import statistics\n",
    "\n",
    "def find_mode(numbers):\n",
    "    mode = statistics.mode(numbers)\n",
    "    return mode\n",
    "\n",
    "\n",
    "################ TEST\n",
    "\n",
    "numbers = [1, 2, 3, 2, 4, 5, 2, 6, 2, 7, 2, 8, 9, 2, 10]\n",
    "mode = find_mode(numbers)\n",
    "print(\"Mode:\", mode)\n"
   ]
  },
  {
   "cell_type": "markdown",
   "id": "e9113872-8d1f-4087-ae62-14251a51589f",
   "metadata": {},
   "source": [
    "## Question 27\n",
    "\n",
    "Write a program to find the greatest common divisor (GCD) or HCF of two numbers."
   ]
  },
  {
   "cell_type": "code",
   "execution_count": 31,
   "id": "c9c6e09d-8818-4a4c-b7be-5a81dbef37db",
   "metadata": {},
   "outputs": [
    {
     "name": "stdout",
     "output_type": "stream",
     "text": [
      "GCD: 12\n"
     ]
    }
   ],
   "source": [
    "def find_gcd(a, b):\n",
    "    while b:\n",
    "        #print([a,b])\n",
    "        a, b = b, a % b\n",
    "    return a\n",
    "\n",
    "############################ TEST\n",
    "\n",
    "num1 = 24\n",
    "num2 = 36\n",
    "\n",
    "gcd = find_gcd(num1, num2)\n",
    "print(\"GCD:\", gcd)\n"
   ]
  },
  {
   "cell_type": "markdown",
   "id": "e1733374-24eb-40d8-87bd-0678759f09d9",
   "metadata": {},
   "source": [
    "## Question 28\n",
    "\n",
    "Implement a function to calculate the square root of a given number"
   ]
  },
  {
   "cell_type": "code",
   "execution_count": 32,
   "id": "dee670dc-d437-46f7-bf43-b6b5e514cde5",
   "metadata": {},
   "outputs": [
    {
     "name": "stdout",
     "output_type": "stream",
     "text": [
      "The square root of 25 is: 5.0\n"
     ]
    }
   ],
   "source": [
    "def square_root(number):\n",
    "    if number < 0:\n",
    "        raise ValueError(\"Square root is not defined for negative numbers.\")\n",
    "    \n",
    "    return number ** 0.5\n",
    "\n",
    "####################### TEST\n",
    "number = 25\n",
    "result = square_root(number)\n",
    "print(f\"The square root of {number} is: {result}\")\n"
   ]
  },
  {
   "cell_type": "markdown",
   "id": "e2028cfd-7eb6-42ce-95c1-f834349c9eaa",
   "metadata": {},
   "source": [
    "## Question 29\n",
    "\n",
    "Write a Python program to check if a given string is a valid palindrome ignoring\n",
    "non-alphanumeric characters.\n"
   ]
  },
  {
   "cell_type": "code",
   "execution_count": 33,
   "id": "f673a3f7-a8c4-49ed-b901-c7b544d50b42",
   "metadata": {},
   "outputs": [
    {
     "name": "stdout",
     "output_type": "stream",
     "text": [
      "The string 'A man, a plan, a canal: Panama' is a valid palindrome: True\n"
     ]
    }
   ],
   "source": [
    "import re\n",
    "\n",
    "def is_valid_palindrome(string):\n",
    "    # Remove non-alphanumeric characters and convert to lowercase\n",
    "    string = re.sub(r'[^a-zA-Z0-9]', '', string.lower())\n",
    "    \n",
    "    # Check if the string is a palindrome\n",
    "    return string == string[::-1]\n",
    "\n",
    "############## TEST\n",
    "string = \"A man, a plan, a canal: Panama\"\n",
    "result = is_valid_palindrome(string)\n",
    "print(f\"The string '{string}' is a valid palindrome: {result}\")\n"
   ]
  },
  {
   "cell_type": "markdown",
   "id": "34ec4300-c0a0-41e2-b13c-793a9f16b4c3",
   "metadata": {},
   "source": [
    "## Question 30\n",
    "\n",
    "Implement a function to find the minimum element in a rotated sorted list."
   ]
  },
  {
   "cell_type": "markdown",
   "id": "7a9a372d-1c63-45b1-a8bd-065395d15eb8",
   "metadata": {},
   "source": [
    "A rotated sorted list is a list that has been rotated or shifted circularly at some pivot point. This means that some elements from one end of the list are moved to the other end, while maintaining the relative order of the elements."
   ]
  },
  {
   "cell_type": "code",
   "execution_count": 34,
   "id": "0c060fc5-f57d-4d1f-a01e-0072a76f1871",
   "metadata": {},
   "outputs": [
    {
     "name": "stdout",
     "output_type": "stream",
     "text": [
      "The minimum element is: 0\n"
     ]
    }
   ],
   "source": [
    "def find_minimum(nums):\n",
    "    # Initialize left and right pointers\n",
    "    left = 0\n",
    "    right = len(nums) - 1\n",
    "\n",
    "    # Perform binary search\n",
    "    while left < right:\n",
    "        mid = (left + right) // 2\n",
    "\n",
    "        # Check if mid element is greater than the rightmost element\n",
    "        if nums[mid] > nums[right]:\n",
    "            # Minimum element lies in the right half\n",
    "            left = mid + 1\n",
    "        else:\n",
    "            # Minimum element lies in the left half or is the mid element\n",
    "            right = mid\n",
    "\n",
    "    # The minimum element is at the left pointer position\n",
    "    return nums[left]\n",
    "\n",
    "\n",
    "\n",
    "\n",
    "################################# TEST\n",
    "############################## TEST\n",
    "\n",
    "nums = [4, 5, 6, 7, 0, 1, 2]\n",
    "min_element = find_minimum(nums)\n",
    "print(f\"The minimum element is: {min_element}\")\n"
   ]
  },
  {
   "cell_type": "markdown",
   "id": "828c8a9c-8b67-4438-b5e3-43eb476e17ed",
   "metadata": {},
   "source": [
    "## Question 31\n",
    "\n",
    "Write a program to find the sum of all even numbers in a list"
   ]
  },
  {
   "cell_type": "code",
   "execution_count": 35,
   "id": "472d1f65-79ab-4fdb-8b11-28e18ae4686c",
   "metadata": {},
   "outputs": [
    {
     "name": "stdout",
     "output_type": "stream",
     "text": [
      "Sum of even numbers: 30\n"
     ]
    }
   ],
   "source": [
    "def sum_of_even_numbers(lst):\n",
    "    sum_even = 0\n",
    "    for num in lst:\n",
    "        if num % 2 == 0:\n",
    "            sum_even += num\n",
    "    return sum_even\n",
    "\n",
    "    \n",
    "############### TEST\n",
    "\n",
    "numbers = [1, 2, 3, 4, 5, 6, 7, 8, 9, 10]\n",
    "result = sum_of_even_numbers(numbers)\n",
    "print(\"Sum of even numbers:\", result)\n"
   ]
  },
  {
   "cell_type": "markdown",
   "id": "dd020318-dcb5-4b31-a96f-80c3eb0e984f",
   "metadata": {},
   "source": [
    "## Question 32\n",
    "\n",
    "Implement a function to calculate the power of a number using recursion\n"
   ]
  },
  {
   "cell_type": "code",
   "execution_count": 36,
   "id": "5d3136af-0b18-4766-8fad-1ff36322abe2",
   "metadata": {},
   "outputs": [
    {
     "name": "stdout",
     "output_type": "stream",
     "text": [
      "2 raised to the power of 4 is 16\n"
     ]
    }
   ],
   "source": [
    "def power(base, exponent):\n",
    "    # Base case: when exponent is 0, return 1\n",
    "    if exponent == 0:\n",
    "        return 1\n",
    "    \n",
    "    # Recursive case: calculate power recursively\n",
    "    result = base * power(base, exponent - 1)\n",
    "    return result\n",
    "\n",
    "############ TEST\n",
    "############ TEST\n",
    "\n",
    "base = 2\n",
    "exponent = 4\n",
    "result = power(base, exponent)\n",
    "print(f\"{base} raised to the power of {exponent} is {result}\")\n"
   ]
  },
  {
   "cell_type": "markdown",
   "id": "34da7916-1e30-45a5-9595-6ffe226763f2",
   "metadata": {},
   "source": [
    "## Question 33\n",
    "\n",
    "\n",
    "Write a Python program to remove duplicates from a list while preserving the order."
   ]
  },
  {
   "cell_type": "code",
   "execution_count": 37,
   "id": "6a453d9e-1b78-4cf6-82a5-04d22ad4beba",
   "metadata": {},
   "outputs": [
    {
     "name": "stdout",
     "output_type": "stream",
     "text": [
      "[1, 2, 3, 4, 5, 6, 7]\n"
     ]
    }
   ],
   "source": [
    "def remove_duplicates(lst):\n",
    "    seen = set()\n",
    "    result = []\n",
    "    for item in lst:\n",
    "        if item not in seen:\n",
    "            seen.add(item)\n",
    "            result.append(item)\n",
    "    return result\n",
    "\n",
    "############################# TEST\n",
    "\n",
    "my_list = [1, 2, 3, 2, 2, 4, 1, 5, 5, 3, 6, 3, 7, 7]\n",
    "new_list = remove_duplicates(my_list)\n",
    "print(new_list)\n"
   ]
  },
  {
   "cell_type": "markdown",
   "id": "cc9692d6-ab37-445b-a18e-6c0f6ad6dc9b",
   "metadata": {},
   "source": [
    "## Question 34\n",
    "\n",
    "Implement a function to find the longest common prefix among a list of strings."
   ]
  },
  {
   "cell_type": "code",
   "execution_count": 38,
   "id": "2e0db90e-1a22-4ad6-a764-73954d4289fb",
   "metadata": {},
   "outputs": [
    {
     "name": "stdout",
     "output_type": "stream",
     "text": [
      "fl\n"
     ]
    }
   ],
   "source": [
    "def longest_common_prefix(strs):\n",
    "    if not strs:\n",
    "        return \"\"\n",
    "\n",
    "    # Find the minimum length string in the list\n",
    "    min_length = min(len(s) for s in strs)\n",
    "\n",
    "    # Iterate over the characters of the minimum length string\n",
    "    for i in range(min_length):\n",
    "        # Check if all characters at the current index are the same\n",
    "        if any(strs[j][i] != strs[0][i] for j in range(1, len(strs))):\n",
    "            # If not, return the common prefix up to the previous index\n",
    "            return strs[0][:i]\n",
    "\n",
    "    # If all characters match up to the minimum length, return the common prefix\n",
    "    return strs[0][:min_length]\n",
    "\n",
    "\n",
    "\n",
    "\n",
    "\n",
    "    \n",
    "############################## TEST\n",
    "############################## TEST\n",
    "\n",
    "my_list = [\"flower\", \"flow\", \"floor\", \"flight\"]\n",
    "common_prefix = longest_common_prefix(my_list)\n",
    "print(common_prefix)\n"
   ]
  },
  {
   "cell_type": "markdown",
   "id": "96b030b4-81ff-4492-a5d0-d5fd1b9b9276",
   "metadata": {},
   "source": [
    "## Question 35\n",
    "\n",
    "Write a program to check if a given number is a perfect square"
   ]
  },
  {
   "cell_type": "code",
   "execution_count": 39,
   "id": "5bb00e07-3a8c-4a38-b47c-4a70c68ce87f",
   "metadata": {},
   "outputs": [
    {
     "name": "stdout",
     "output_type": "stream",
     "text": [
      "64 is a perfect square.\n"
     ]
    }
   ],
   "source": [
    "import math\n",
    "\n",
    "def is_perfect_square(num):\n",
    "    if num < 0:\n",
    "        return False\n",
    "    elif num == 0:\n",
    "        return True\n",
    "\n",
    "    # Find the square root of the number\n",
    "    sqrt = math.isqrt(num)\n",
    "\n",
    "    # Check if the square root squared equals the original number\n",
    "    return sqrt * sqrt == num\n",
    "\n",
    "######################## TEST\n",
    "################ TEST\n",
    "\n",
    "\n",
    "number = 64\n",
    "if is_perfect_square(number):\n",
    "    print(f\"{number} is a perfect square.\")\n",
    "else:\n",
    "    print(f\"{number} is not a perfect square.\")\n"
   ]
  },
  {
   "cell_type": "markdown",
   "id": "b874f813-dbf8-4f17-97c6-fc511be6ad93",
   "metadata": {},
   "source": [
    "## Question 36\n",
    "\n",
    "Implement a function to calculate the product of all elements in a list."
   ]
  },
  {
   "cell_type": "code",
   "execution_count": 40,
   "id": "5e13f4e3-c3b5-4e9a-a142-a003345d832b",
   "metadata": {},
   "outputs": [
    {
     "name": "stdout",
     "output_type": "stream",
     "text": [
      "The product of the elements in the list is: 120\n"
     ]
    }
   ],
   "source": [
    "def calculate_product(numbers):\n",
    "    if not numbers:\n",
    "        return None\n",
    "\n",
    "    product = 1\n",
    "    for num in numbers:\n",
    "        product *= num\n",
    "\n",
    "    return product\n",
    "\n",
    "    \n",
    "########## Driver code\n",
    "\n",
    "my_list = [2, 3, 4, 5]\n",
    "result = calculate_product(my_list)\n",
    "print(f\"The product of the elements in the list is: {result}\")\n"
   ]
  },
  {
   "cell_type": "markdown",
   "id": "19c8be04-9b0c-417b-84f7-e7620f00bdf9",
   "metadata": {},
   "source": [
    "## Question 37\n",
    "\n",
    "Write a Python program to reverse the order of words in a sentence while preserving the\n",
    "word order."
   ]
  },
  {
   "cell_type": "code",
   "execution_count": 41,
   "id": "3461bd56-ecdc-4950-9ec1-ebee54c2bfc8",
   "metadata": {},
   "outputs": [
    {
     "name": "stdout",
     "output_type": "stream",
     "text": [
      "bioinformatics for good is Python World! Hello\n"
     ]
    }
   ],
   "source": [
    "def reverse_words(sentence):\n",
    "    words = sentence.split()\n",
    "    reversed_words = words[::-1]\n",
    "    reversed_sentence = ' '.join(reversed_words)\n",
    "    return reversed_sentence\n",
    "\n",
    "################## TEST\n",
    "################ TEST\n",
    "\n",
    "\n",
    "input_sentence = \"Hello World! Python is good for bioinformatics\"\n",
    "reversed_sentence = reverse_words(input_sentence)\n",
    "print(reversed_sentence)\n"
   ]
  },
  {
   "cell_type": "markdown",
   "id": "36320a74-4a83-4188-8ca6-f06325bec9ef",
   "metadata": {},
   "source": [
    "## Question 38\n",
    "\n",
    "Implement a function to find the missing number in a given list of consecutive numbers."
   ]
  },
  {
   "cell_type": "code",
   "execution_count": 42,
   "id": "83c22f3d-8bd5-49ef-a364-271f890d7a23",
   "metadata": {},
   "outputs": [
    {
     "name": "stdout",
     "output_type": "stream",
     "text": [
      "Missing number: 4\n"
     ]
    }
   ],
   "source": [
    "def find_missing_number(numbers):\n",
    "    n = len(numbers) + 1  # Including the missing number\n",
    "    expected_sum = n * (n + 1) // 2  # Sum of numbers in the range [1, n]\n",
    "    actual_sum = sum(numbers)\n",
    "    missing_number = expected_sum - actual_sum\n",
    "    return missing_number\n",
    "\n",
    "######################## TEST\n",
    "####################### TEST\n",
    "\n",
    "\n",
    "input_numbers = [1, 2, 3, 5, 6, 7, 8]\n",
    "missing_number = find_missing_number(input_numbers)\n",
    "print(\"Missing number:\", missing_number)\n"
   ]
  },
  {
   "cell_type": "markdown",
   "id": "64df8ac5-efab-4cb3-9fb9-f0cdb78bcd31",
   "metadata": {},
   "source": [
    "## Question 39\n",
    "Write a program to find the sum of digits of a given number\n"
   ]
  },
  {
   "cell_type": "code",
   "execution_count": 43,
   "id": "a1e75453-f7d1-496e-89a4-03e7ec3bc5d4",
   "metadata": {},
   "outputs": [
    {
     "name": "stdout",
     "output_type": "stream",
     "text": [
      "Sum of digits: 15\n"
     ]
    }
   ],
   "source": [
    "def sum_of_digits(number):\n",
    "    # Convert the number to a string\n",
    "    number_str = str(number)\n",
    "    \n",
    "    # Initialize the sum to 0\n",
    "    digit_sum = 0\n",
    "    \n",
    "    # Iterate over each digit in the number\n",
    "    for digit in number_str:\n",
    "        # Convert the digit back to an integer and add it to the sum\n",
    "        digit_sum += int(digit)\n",
    "    \n",
    "    # Return the sum of digits\n",
    "    return digit_sum\n",
    "\n",
    "\n",
    "########################## TEST\n",
    "####################### TEST\n",
    "\n",
    "\n",
    "input_number = 12345\n",
    "digit_sum = sum_of_digits(input_number)\n",
    "print(\"Sum of digits:\", digit_sum)\n"
   ]
  },
  {
   "cell_type": "markdown",
   "id": "0c6e334b-f2a7-4d04-a1fd-c2e84f22e784",
   "metadata": {},
   "source": [
    "## Question 40\n",
    "\n",
    "Implement a function to check if a given string is a valid palindrome considering case\n",
    "sensitivity."
   ]
  },
  {
   "cell_type": "code",
   "execution_count": 44,
   "id": "48c8c34b-7c38-4712-bc57-dcf5c0fc0f55",
   "metadata": {},
   "outputs": [
    {
     "name": "stdout",
     "output_type": "stream",
     "text": [
      "Is palindrome: True\n"
     ]
    }
   ],
   "source": [
    "def is_valid_palindrome(string):\n",
    "    # Remove any non-alphanumeric characters and convert the string to lowercase\n",
    "    string = ''.join(ch.lower() for ch in string if ch.isalnum())\n",
    "    \n",
    "    # Check if the reversed string is equal to the original string\n",
    "    return string == string[::-1]\n",
    "\n",
    "    \n",
    "############### TEST\n",
    "\n",
    "input_string = \"A man, a plan, a canal: Panama\"\n",
    "is_palindrome = is_valid_palindrome(input_string)\n",
    "print(\"Is palindrome:\", is_palindrome)\n"
   ]
  },
  {
   "cell_type": "markdown",
   "id": "4aad354d-9882-4c95-a7bc-8d37e82eb899",
   "metadata": {},
   "source": [
    "## Question 41\n",
    "\n",
    "Write a Python program to find the smallest missing positive integer in a list.\n"
   ]
  },
  {
   "cell_type": "code",
   "execution_count": 45,
   "id": "df5037bf-6b74-4d1c-829f-a8b4120de1ca",
   "metadata": {},
   "outputs": [
    {
     "name": "stdout",
     "output_type": "stream",
     "text": [
      "Smallest missing positive integer: 2\n"
     ]
    }
   ],
   "source": [
    "def find_smallest_missing_positive(nums):\n",
    "    n = len(nums)\n",
    "\n",
    "    # Step 1: Move all positive numbers to the left side of the list\n",
    "    j = 0\n",
    "    for i in range(n):\n",
    "        if nums[i] <= 0:\n",
    "            nums[i], nums[j] = nums[j], nums[i]\n",
    "            j += 1\n",
    "\n",
    "    # Step 2: Mark elements as visited by making the corresponding index negative\n",
    "    for i in range(j, n):\n",
    "        num = abs(nums[i])\n",
    "        if num <= n - j:\n",
    "            nums[j + num - 1] = -abs(nums[j + num - 1])\n",
    "\n",
    "    # Step 3: Find the first positive index and return the missing positive integer\n",
    "    for i in range(j, n):\n",
    "        if nums[i] > 0:\n",
    "            return i - j + 1\n",
    "\n",
    "    return n - j + 1\n",
    "\n",
    "\n",
    "    \n",
    "############################### TEST\n",
    "############################### TEST\n",
    "\n",
    "numbers = [3, 4, -1, 1]\n",
    "result = find_smallest_missing_positive(numbers)\n",
    "print(\"Smallest missing positive integer:\", result)\n"
   ]
  },
  {
   "cell_type": "markdown",
   "id": "f2925cf6-99ef-4c81-a5e2-b44364104cca",
   "metadata": {},
   "source": [
    "## Question 42\n",
    "\n",
    "Write a program to find the number of occurrences of a given element in a list."
   ]
  },
  {
   "cell_type": "code",
   "execution_count": 46,
   "id": "b32c4fef-8ed8-4d7c-9201-eef5c7645bde",
   "metadata": {},
   "outputs": [
    {
     "name": "stdout",
     "output_type": "stream",
     "text": [
      "Number of occurrences of 2 in the list: 4\n"
     ]
    }
   ],
   "source": [
    "def count_occurrences(nums, target):\n",
    "    count = 0\n",
    "    for num in nums:\n",
    "        if num == target:\n",
    "            count += 1\n",
    "    return count\n",
    "\n",
    "\n",
    "    \n",
    "############## TEST\n",
    "################ TEST\n",
    "\n",
    "numbers = [1, 2, 3, 4, 2, 2, 5, 2]\n",
    "target_number = 2\n",
    "result = count_occurrences(numbers, target_number)\n",
    "print(\"Number of occurrences of\", target_number, \"in the list:\", result)\n"
   ]
  },
  {
   "cell_type": "code",
   "execution_count": null,
   "id": "dfad39db-2c9c-4ef8-b128-a6d2ec7ddc41",
   "metadata": {},
   "outputs": [],
   "source": []
  },
  {
   "cell_type": "markdown",
   "id": "c36ce51f-d23d-48fa-878f-ebe6f63a319e",
   "metadata": {},
   "source": [
    "## Question 46\n",
    "\n",
    "Implement a function to find the first missing positive"
   ]
  },
  {
   "cell_type": "code",
   "execution_count": 47,
   "id": "ac45b254-41ef-420d-8d3a-79d55fe2dddf",
   "metadata": {},
   "outputs": [],
   "source": [
    "def first_missing_positive(nums):\n",
    "    n = len(nums)\n",
    "    \n",
    "    # Move all positive integers to the left side of the list\n",
    "    j = 0\n",
    "    for i in range(n):\n",
    "        if nums[i] <= 0:\n",
    "            nums[i], nums[j] = nums[j], nums[i]\n",
    "            j += 1\n",
    "    \n",
    "    # Consider only the positive integers from index j onwards\n",
    "    nums = nums[j:]\n",
    "    n = len(nums)\n",
    "    \n",
    "    # Mark the presence of a positive integer by changing the sign of the corresponding index\n",
    "    for i in range(n):\n",
    "        num = abs(nums[i])\n",
    "        if num <= n:\n",
    "            nums[num - 1] = -abs(nums[num - 1])\n",
    "    \n",
    "    # Find the first index with a positive value, indicating a missing positive integer\n",
    "    for i in range(n):\n",
    "        if nums[i] > 0:\n",
    "            return i + 1\n",
    "    \n",
    "    # If all positive integers are present, return the next positive integer\n",
    "    return n + 1\n"
   ]
  },
  {
   "cell_type": "code",
   "execution_count": 48,
   "id": "b8a86b65-f3a7-4c82-bb79-30d88718ea1c",
   "metadata": {},
   "outputs": [
    {
     "name": "stdout",
     "output_type": "stream",
     "text": [
      "First missing positive integer: 2\n"
     ]
    }
   ],
   "source": [
    "################## TEST\n",
    "###################### TEST\n",
    "\n",
    "numbers = [3, 4, -1, 1]\n",
    "result = first_missing_positive(numbers)\n",
    "print(\"First missing positive integer:\", result)\n"
   ]
  },
  {
   "cell_type": "code",
   "execution_count": null,
   "id": "6f238903-148e-4458-be52-da6f29239df2",
   "metadata": {},
   "outputs": [],
   "source": []
  }
 ],
 "metadata": {
  "kernelspec": {
   "display_name": "Python 3 (ipykernel)",
   "language": "python",
   "name": "python3"
  },
  "language_info": {
   "codemirror_mode": {
    "name": "ipython",
    "version": 3
   },
   "file_extension": ".py",
   "mimetype": "text/x-python",
   "name": "python",
   "nbconvert_exporter": "python",
   "pygments_lexer": "ipython3",
   "version": "3.10.8"
  }
 },
 "nbformat": 4,
 "nbformat_minor": 5
}

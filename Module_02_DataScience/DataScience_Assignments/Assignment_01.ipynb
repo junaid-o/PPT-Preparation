{
 "cells": [
  {
   "cell_type": "markdown",
   "id": "d763278f-996b-4722-b733-88aff2d79f1c",
   "metadata": {},
   "source": [
    "# <center>Module 02: Data Science</center>\n",
    "# <center>Assignment_01</center>"
   ]
  },
  {
   "cell_type": "markdown",
   "id": "74080b14-ea78-4323-8293-aecc31be2bec",
   "metadata": {
    "jp-MarkdownHeadingCollapsed": true
   },
   "source": [
    "## Question 01:\n",
    "Write a Python program to reverse a string without using any built-in string reversal functions."
   ]
  },
  {
   "cell_type": "code",
   "execution_count": 4,
   "id": "aaebea56-7da1-4c53-bf51-1ce78e37683b",
   "metadata": {},
   "outputs": [
    {
     "name": "stdout",
     "output_type": "stream",
     "text": [
      "Reversed string: dlroW olleH\n"
     ]
    }
   ],
   "source": [
    "def reverse_string(input_str):\n",
    "    reversed_str = \"\"\n",
    "    for char in input_str:\n",
    "        reversed_str = char + reversed_str\n",
    "    return reversed_str\n",
    "\n",
    "################################ Test\n",
    "input_string = \"Hello World\"\n",
    "reversed_string = reverse_string(input_string)\n",
    "print(\"Reversed string:\", reversed_string)\n"
   ]
  },
  {
   "cell_type": "markdown",
   "id": "313924f5-a808-4b05-abb7-83e0db7572cc",
   "metadata": {
    "jp-MarkdownHeadingCollapsed": true
   },
   "source": [
    "## Question 02\n",
    "\n",
    "Implement a function to check if a given string is a palindrome.\n"
   ]
  },
  {
   "cell_type": "code",
   "execution_count": 15,
   "id": "33834874-ec80-406d-b2a7-f778ed18778b",
   "metadata": {},
   "outputs": [
    {
     "name": "stdout",
     "output_type": "stream",
     "text": [
      "Entered String is Palindrome\n"
     ]
    }
   ],
   "source": [
    "def is_palindrome(string):\n",
    "    string = string.lower()\n",
    "    if string==string[::-1]:\n",
    "        return \"Palindrome\"\n",
    "    return \"Not a palindrome\"\n",
    "\n",
    "############## TEST\n",
    "\n",
    "input_string = \"MADAM\"\n",
    "\n",
    "print(f\"Entered String is\", is_palindrome(input_string))"
   ]
  },
  {
   "cell_type": "markdown",
   "id": "c421fd45-fc4d-4a9b-9f32-a5da9c6b7927",
   "metadata": {
    "jp-MarkdownHeadingCollapsed": true
   },
   "source": [
    "## Question 03\n",
    "\n",
    "Write a program to find the largest element in a given list"
   ]
  },
  {
   "cell_type": "code",
   "execution_count": 23,
   "id": "642e0599-70a2-4b07-b21d-90125278c34a",
   "metadata": {},
   "outputs": [
    {
     "name": "stdout",
     "output_type": "stream",
     "text": [
      "Largest element: 9\n"
     ]
    }
   ],
   "source": [
    "def find_largest_element(lst):\n",
    "    if not lst:\n",
    "        return None\n",
    "    largest = float('-inf')\n",
    "    #largest = lst[0]\n",
    "    \n",
    "    for num in lst:\n",
    "        if num > largest:\n",
    "            largest = num\n",
    "    return largest\n",
    "\n",
    "\n",
    "################## TEST\n",
    "################### TEST\n",
    "\n",
    "my_list = [3, 8, 1, 6, 2, 9, 4]\n",
    "largest_element = find_largest_element(my_list)\n",
    "print(\"Largest element:\", largest_element)\n"
   ]
  },
  {
   "cell_type": "markdown",
   "id": "cd5d194a-74e6-43b3-8036-c7a4f8485d40",
   "metadata": {},
   "source": [
    "#### Divide and Conquer Approach"
   ]
  },
  {
   "cell_type": "code",
   "execution_count": 25,
   "id": "fcb1c5d7-e79d-415a-8ec8-aaf2af81e1bc",
   "metadata": {},
   "outputs": [
    {
     "name": "stdout",
     "output_type": "stream",
     "text": [
      "Largest element: 9\n"
     ]
    }
   ],
   "source": [
    "############# Using Divide and Conquer Approach\n",
    "################ Applicable on sorted aray\n",
    "############ Time Complexity Big O(1) --> constant time complexity\n",
    "\n",
    "\n",
    "def find_largest_element(list):\n",
    "    if not list:\n",
    "        return None\n",
    "    return find_largest_element_helper(list, 0, len(list) - 1)\n",
    "\n",
    "def find_largest_element_helper(list, start, end):\n",
    "    if start == end:\n",
    "        return list[start]\n",
    "    mid = (start + end) // 2\n",
    "    left_max = find_largest_element_helper(list, start, mid)\n",
    "    right_max = find_largest_element_helper(list, mid + 1, end)\n",
    "    \n",
    "    return max(left_max, right_max)\n",
    "\n",
    "####################### TEST\n",
    "####################### TEST\n",
    "\n",
    "my_list = [3, 8, 1, 6, 2, 9, 4]\n",
    "sorted_list = sorted(my_list) ### Sorting because divide and conquer is applicable on sorted arra\n",
    "largest_element = find_largest_element(sorted_list)\n",
    "print(\"Largest element:\", largest_element)\n"
   ]
  },
  {
   "cell_type": "markdown",
   "id": "a440ab01-69c0-48ae-b5be-e168deb565f1",
   "metadata": {
    "jp-MarkdownHeadingCollapsed": true
   },
   "source": [
    "## Question 04:\n",
    "\n",
    "Implement a function to count the occurrence of each element in a list."
   ]
  },
  {
   "cell_type": "code",
   "execution_count": 17,
   "id": "8ff6a0fe-e877-4426-8b15-d222f71c41c0",
   "metadata": {},
   "outputs": [
    {
     "name": "stdout",
     "output_type": "stream",
     "text": [
      "{1: 2, 2: 2, 3: 3, 4: 3, 5: 1}\n"
     ]
    }
   ],
   "source": [
    "def count_occurrences(lst):\n",
    "    occurrences = {}\n",
    "    for element in lst:\n",
    "        if element in occurrences:\n",
    "            occurrences[element] += 1\n",
    "        else:\n",
    "            occurrences[element] = 1\n",
    "    return occurrences\n",
    "\n",
    "############## TEST\n",
    "############## TEST\n",
    "\n",
    "my_list = [1, 2, 3, 2, 1, 3, 3, 4, 5, 4, 4]\n",
    "result = count_occurrences(my_list)\n",
    "print(result)\n"
   ]
  },
  {
   "cell_type": "markdown",
   "id": "f958d538-5ca7-4e1f-a791-a5949f50a474",
   "metadata": {
    "jp-MarkdownHeadingCollapsed": true
   },
   "source": [
    "## Question 05:\n",
    "\n",
    "Write a Python program to find the second largest number in a list"
   ]
  },
  {
   "cell_type": "code",
   "execution_count": 24,
   "id": "a0dbc84a-548d-4bf6-917e-5b400c346705",
   "metadata": {},
   "outputs": [
    {
     "name": "stdout",
     "output_type": "stream",
     "text": [
      "Second largest number: 8\n"
     ]
    }
   ],
   "source": [
    "def find_second_largest(numbers):\n",
    "    if len(numbers) < 2:\n",
    "        return \"List should have at least two numbers\"\n",
    "\n",
    "    largest = float('-inf')  # Initialize largest to negative infinity\n",
    "    second_largest = float('-inf')  # Initialize second_largest to negative infinity\n",
    "\n",
    "    for num in numbers:\n",
    "        if num > largest:\n",
    "            second_largest = largest\n",
    "            largest = num\n",
    "        elif num > second_largest and num != largest:\n",
    "            second_largest = num\n",
    "\n",
    "    if second_largest == float('-inf'):\n",
    "        return \"There is no second largest number\"\n",
    "    else:\n",
    "        return second_largest\n",
    "\n",
    "        \n",
    "############### TEST\n",
    "############## TEST\n",
    "\n",
    "numbers = [5, 2, 8, 12, 3]\n",
    "result = find_second_largest(numbers)\n",
    "print(\"Second largest number:\", result)\n"
   ]
  },
  {
   "cell_type": "markdown",
   "id": "9eca8cbf-3417-475b-b19f-15e7e2664c41",
   "metadata": {
    "jp-MarkdownHeadingCollapsed": true
   },
   "source": [
    "## Question 06:\n",
    "\n",
    "Implement a function to remove duplicate elements from a list."
   ]
  },
  {
   "cell_type": "code",
   "execution_count": 28,
   "id": "8d9823d0-547e-4152-816a-053d03e97fbe",
   "metadata": {},
   "outputs": [
    {
     "data": {
      "text/plain": [
       "[1, 2, 3, 5, 6, 42]"
      ]
     },
     "execution_count": 28,
     "metadata": {},
     "output_type": "execute_result"
    }
   ],
   "source": [
    "def remove_duplicates(lst):\n",
    "    return list(set(lst))\n",
    "\n",
    "############ TEST\n",
    "########## TEST\n",
    "\n",
    "my_list = [1,2,3,42,5,2,6,3,3,5]\n",
    "remove_duplicates(my_list)"
   ]
  },
  {
   "cell_type": "markdown",
   "id": "8b56ae34-00a7-44ad-8dfc-11e4ce75e479",
   "metadata": {},
   "source": [
    "#### Other Approach"
   ]
  },
  {
   "cell_type": "code",
   "execution_count": 32,
   "id": "8412dcf0-4d3c-4ddb-92cc-e1fecfc3c858",
   "metadata": {},
   "outputs": [
    {
     "name": "stdout",
     "output_type": "stream",
     "text": [
      "List without duplicates: [1, 2, 3, 42, 5, 6]\n"
     ]
    }
   ],
   "source": [
    "def remove_duplicates(lst):\n",
    "    result = []\n",
    "    for item in lst:\n",
    "        if item not in result:\n",
    "            result.append(item)\n",
    "    return result\n",
    "\n",
    "########### TEST\n",
    "############ TEST\n",
    "my_list = [1,2,3,42,5,2,6,3,3,5]\n",
    "result = remove_duplicates(my_list)\n",
    "print(\"List without duplicates:\", result)\n"
   ]
  },
  {
   "cell_type": "markdown",
   "id": "33d44279-686a-4a5b-95fe-1553e275d6c7",
   "metadata": {
    "jp-MarkdownHeadingCollapsed": true
   },
   "source": [
    "## Question 07:\n",
    "Write a program to calculate the factorial of a given number."
   ]
  },
  {
   "cell_type": "code",
   "execution_count": 55,
   "id": "f590fc84-fe7f-46b8-9495-b3ab821baceb",
   "metadata": {},
   "outputs": [
    {
     "data": {
      "text/plain": [
       "3628800"
      ]
     },
     "execution_count": 55,
     "metadata": {},
     "output_type": "execute_result"
    }
   ],
   "source": [
    "def factorial(n):\n",
    "    result = 1\n",
    "    while n > 1:\n",
    "        result = result * n\n",
    "        n -= 1\n",
    "    return result\n",
    "\n",
    "############## TEST\n",
    "\n",
    "factorial(10)"
   ]
  },
  {
   "cell_type": "markdown",
   "id": "32fdd0aa-3290-445a-b71e-2f66d60485e6",
   "metadata": {},
   "source": [
    "#### Recursive Approach"
   ]
  },
  {
   "cell_type": "code",
   "execution_count": 54,
   "id": "de6c34a7-66cf-419d-a005-2df3e92ebf23",
   "metadata": {},
   "outputs": [
    {
     "data": {
      "text/plain": [
       "3628800"
      ]
     },
     "execution_count": 54,
     "metadata": {},
     "output_type": "execute_result"
    }
   ],
   "source": [
    "def factorial_recursion(n):\n",
    "    if n==1 or n==0:\n",
    "        return 1\n",
    "    else:\n",
    "        return n * factorial(n-1)\n",
    "\n",
    "############### TEST\n",
    "\n",
    "factorial_recursion(10)"
   ]
  },
  {
   "cell_type": "markdown",
   "id": "7b09528d-330b-4a4e-ae31-ed53c2265952",
   "metadata": {
    "jp-MarkdownHeadingCollapsed": true
   },
   "source": [
    "## Question 08:\n",
    "\n",
    "Implement a function to check if a given number is prime."
   ]
  },
  {
   "cell_type": "code",
   "execution_count": 65,
   "id": "5cff2638-c2fe-43ee-bd55-ee75fc458e6c",
   "metadata": {},
   "outputs": [
    {
     "data": {
      "text/plain": [
       "True"
      ]
     },
     "execution_count": 65,
     "metadata": {},
     "output_type": "execute_result"
    }
   ],
   "source": [
    "def is_prime(n):\n",
    "    if n <2 :\n",
    "        return False\n",
    "    for i in range(2, int(n**0.5)+1):\n",
    "        if n % i == 0:\n",
    "            return False\n",
    "    return True\n",
    "\n",
    "############## TEST\n",
    "############## TEST\n",
    "\n",
    "input_number = 7\n",
    "\n",
    "############## function call\n",
    "is_prime(input_number)"
   ]
  },
  {
   "cell_type": "markdown",
   "id": "c99a4687-a574-42a9-858e-41f0bc2ce495",
   "metadata": {
    "jp-MarkdownHeadingCollapsed": true
   },
   "source": [
    "## Question 09:\n",
    "\n",
    "Write a Python program to sort a list of integers in ascending order."
   ]
  },
  {
   "cell_type": "markdown",
   "id": "9660de52-7c1c-4676-bc6a-1fd47b6a9489",
   "metadata": {},
   "source": [
    "#### Insertion Sort Approach For Sorting An Array"
   ]
  },
  {
   "cell_type": "code",
   "execution_count": 79,
   "id": "aef832a2-b28b-4d15-a21d-803716661a21",
   "metadata": {},
   "outputs": [
    {
     "name": "stdout",
     "output_type": "stream",
     "text": [
      "Original list: [64, 34, 25, 12, 22, 11, 90, 90, 1, 10, 13, 90]\n",
      "Sorted list in ascending order: [1, 10, 11, 12, 13, 22, 25, 34, 64, 90, 90, 90]\n"
     ]
    }
   ],
   "source": [
    "def insertion_sort(arr):\n",
    "    for i in range(1, len(arr)):\n",
    "        key = arr[i]\n",
    "        j = i - 1\n",
    "        while j >= 0 and key < arr[j]:\n",
    "            arr[j + 1] = arr[j]\n",
    "            j -= 1\n",
    "        arr[j + 1] = key\n",
    "    \n",
    "    return arr\n",
    "\n",
    "###################### TEST\n",
    "###################### TEST\n",
    "    \n",
    "numbers = [64, 34, 25, 12, 22, 11, 90, 90, 1, 10, 13, 90]\n",
    "print(\"Original list:\", numbers)\n",
    "\n",
    "insertion_sort(numbers)\n",
    "\n",
    "print(\"Sorted list in ascending order:\", numbers)\n"
   ]
  },
  {
   "cell_type": "markdown",
   "id": "dc429370-c246-4c1e-8afa-775ebeceee9e",
   "metadata": {
    "jp-MarkdownHeadingCollapsed": true
   },
   "source": [
    "## Question 10\n",
    "Implement a function to find the sum of all numbers in a list"
   ]
  },
  {
   "cell_type": "code",
   "execution_count": 83,
   "id": "afcde86b-034c-4586-9e83-c45a66aeb11a",
   "metadata": {},
   "outputs": [
    {
     "name": "stdout",
     "output_type": "stream",
     "text": [
      "Entered List:  [1, 0, 13, 4, 5, 5, 10]\n",
      "Sum of input numbers 38\n"
     ]
    }
   ],
   "source": [
    "def find_sum(numbers):\n",
    "    total = 0\n",
    "    for num in numbers:\n",
    "        total += num\n",
    "    return total\n",
    "\n",
    "############# TEST\n",
    "################ TEST\n",
    "\n",
    "my_list = [1, 0, 13, 4, 5, 5, 10]\n",
    "result = find_sum(my_list)\n",
    "\n",
    "print(\"Entered List: \", my_list)\n",
    "print(\"Sum of input numbers\", result)"
   ]
  },
  {
   "cell_type": "markdown",
   "id": "ebe488a9-2ab7-4dbf-ba22-6a1febd8552b",
   "metadata": {
    "jp-MarkdownHeadingCollapsed": true
   },
   "source": [
    "## Question 11:\n",
    "\n",
    "Write a program to find the common elements between two lists.\n"
   ]
  },
  {
   "cell_type": "code",
   "execution_count": 120,
   "id": "68c12c40-d2db-4c80-b1d3-b400ddb29699",
   "metadata": {},
   "outputs": [
    {
     "data": {
      "text/plain": [
       "[1, 66, 2]"
      ]
     },
     "execution_count": 120,
     "metadata": {},
     "output_type": "execute_result"
    }
   ],
   "source": [
    "def common_elements(lst_1, lst_2):\n",
    "    if not lst_1 and not lst_2:\n",
    "        return \"Empty Lists\"\n",
    "    elif not lst_1:\n",
    "        return lst_2\n",
    "    elif not lst_2:\n",
    "        return lst_1\n",
    "\n",
    "    else:\n",
    "        \n",
    "        lst_1 = set(lst_1)\n",
    "        lst_2 = set(lst_2)\n",
    "        common_item = []\n",
    "    \n",
    "        if len(lst_1) >= len(lst_2):\n",
    "    \n",
    "            for item in lst_2:\n",
    "                if item in lst_1:\n",
    "                    common_item.append(item)\n",
    "        else:\n",
    "            for item in lst_1:\n",
    "                if item in lst_2:\n",
    "                    common_item.append(item)\n",
    "        return common_item\n",
    "\n",
    "\n",
    "####################### TEST\n",
    "\n",
    "list1 = [1,2,3,4,5,66,9,10,11,5,1,1]\n",
    "list2 = [66,21,2,1]\n",
    "\n",
    "########## function call\n",
    "common_elements(list1, list2)"
   ]
  },
  {
   "cell_type": "markdown",
   "id": "7e69ff82-6903-4984-bd51-5bb6a76f0ff6",
   "metadata": {
    "jp-MarkdownHeadingCollapsed": true
   },
   "source": [
    "## Question 12:\n",
    "\n",
    "Implement a function to check if a given string is an anagram of another string."
   ]
  },
  {
   "cell_type": "code",
   "execution_count": 100,
   "id": "d4e485f6-6be2-4a9e-9d05-a3101dccd1a5",
   "metadata": {},
   "outputs": [
    {
     "name": "stdout",
     "output_type": "stream",
     "text": [
      "True\n"
     ]
    }
   ],
   "source": [
    "def is_anagram(str1, str2):\n",
    "    # Remove spaces and convert strings to lowercase\n",
    "    str1 = str1.replace(\" \", \"\").lower()\n",
    "    str2 = str2.replace(\" \", \"\").lower()\n",
    "\n",
    "    # Check if the lengths of the strings are equal\n",
    "    if len(str1) != len(str2):\n",
    "        return False\n",
    "\n",
    "    # Create dictionaries to store character frequencies\n",
    "    char_freq1 = {}\n",
    "    char_freq2 = {}\n",
    "\n",
    "    # Count the frequency of characters in str1\n",
    "    for char in str1:\n",
    "        if char in char_freq1:\n",
    "            char_freq1[char] += 1\n",
    "        else:\n",
    "            char_freq1[char] = 1\n",
    "\n",
    "    # Count the frequency of characters in str2\n",
    "    for char in str2:\n",
    "        if char in char_freq2:\n",
    "            char_freq2[char] += 1\n",
    "        else:\n",
    "            char_freq2[char] = 1\n",
    "\n",
    "    # Check if the dictionaries are equal\n",
    "    if char_freq1 == char_freq2:\n",
    "        return True\n",
    "    else:\n",
    "        return False\n",
    "\n",
    "################################# TEST\n",
    "################################# TEST\n",
    "\n",
    "string1 = \"listen\"\n",
    "string2 = \"silent\"\n",
    "result = is_anagram(string1, string2)\n",
    "print(result)\n"
   ]
  },
  {
   "cell_type": "markdown",
   "id": "b1836de6-74e8-4330-a28b-7a3e8a2aac7a",
   "metadata": {
    "jp-MarkdownHeadingCollapsed": true
   },
   "source": [
    "## Question 13\n",
    "\n",
    "Write a Python program to generate all permutations of a given string"
   ]
  },
  {
   "cell_type": "code",
   "execution_count": 104,
   "id": "0ef6421a-949f-450a-9876-87802421b1ef",
   "metadata": {},
   "outputs": [
    {
     "name": "stdout",
     "output_type": "stream",
     "text": [
      "abc\n",
      "acb\n",
      "bac\n",
      "bca\n",
      "cab\n",
      "cba\n"
     ]
    }
   ],
   "source": [
    "from itertools import permutations\n",
    "\n",
    "def generate_permutations(string):\n",
    "    # Get all permutations of the string\n",
    "    perms = permutations(string)\n",
    "    \n",
    "    # Convert each permutation tuple to a string\n",
    "    perm_strings = [''.join(perm) for perm in perms]\n",
    "    \n",
    "    return perm_strings\n",
    "\n",
    "######################### TEST\n",
    "######################### TEST\n",
    "\n",
    "string = \"abc\"\n",
    "\n",
    "############ function call\n",
    "permutations = generate_permutations(string)\n",
    "\n",
    "for perm in permutations:\n",
    "    print(perm)\n"
   ]
  },
  {
   "cell_type": "markdown",
   "id": "ac49c778-bd5b-4ec7-96f0-aac49253f8a8",
   "metadata": {
    "jp-MarkdownHeadingCollapsed": true
   },
   "source": [
    "## Question 14:\n",
    "\n",
    "Implement a function to calculate the Fibonacci sequence up to a given number of terms.\n"
   ]
  },
  {
   "cell_type": "code",
   "execution_count": 114,
   "id": "8c3f1c26-3588-4025-9327-651d2d07f626",
   "metadata": {},
   "outputs": [
    {
     "name": "stdout",
     "output_type": "stream",
     "text": [
      "Fibonacci series of 20 :\n",
      "0, 1, 1, 2, 3, 5, 8, 13, 21, 34, 55, 89, 144, 233, 377, 610, 987, 1597, 2584, 4181, "
     ]
    }
   ],
   "source": [
    "def fibonacci(n):\n",
    "    if n <= 0:\n",
    "        #print(\"Incorrect input\")\n",
    "        raise \"Incorrect input\"\n",
    "    elif n==1:\n",
    "        return 0\n",
    "    elif n==2:\n",
    "        return 1\n",
    "    else:\n",
    "        return fibonacci(n-1) + fibonacci(n-2)\n",
    "\n",
    "################ TEST\n",
    "################ TEST\n",
    "\n",
    "n = 20\n",
    "print(\"Fibonacci series of\", n, \":\")\n",
    "for i in range(1,n+1):\n",
    "    print(fibonacci(i), end = \", \")\n"
   ]
  },
  {
   "cell_type": "markdown",
   "id": "d6c2f93b-8319-414c-ba46-60390b14b582",
   "metadata": {
    "jp-MarkdownHeadingCollapsed": true
   },
   "source": [
    "## Question 15:\n",
    "\n",
    "Write a program to find the median of a list of numbers."
   ]
  },
  {
   "cell_type": "code",
   "execution_count": 116,
   "id": "0bb6046c-1183-4232-9775-452f9fa620d3",
   "metadata": {},
   "outputs": [
    {
     "name": "stdout",
     "output_type": "stream",
     "text": [
      "Median: 5\n"
     ]
    }
   ],
   "source": [
    "def find_median(numbers):\n",
    "    sorted_numbers = sorted(numbers)\n",
    "    length = len(sorted_numbers)\n",
    "    \n",
    "    if length % 2 == 1:  # Odd length\n",
    "        median = sorted_numbers[length // 2]\n",
    "    else:  # Even length\n",
    "        mid_right = length // 2\n",
    "        mid_left = mid_right - 1\n",
    "        median = (sorted_numbers[mid_left] + sorted_numbers[mid_right]) / 2\n",
    "    \n",
    "    return median\n",
    "\n",
    "#################### TEST\n",
    "#################### TEST\n",
    "\n",
    "\n",
    "numbers = [5, 2, 9, 1, 7, 6, 3, 8, 4]\n",
    "median = find_median(numbers)\n",
    "print(\"Median:\", median)\n"
   ]
  },
  {
   "cell_type": "markdown",
   "id": "992c9beb-2fc9-4618-8093-bfd12a70cba2",
   "metadata": {
    "jp-MarkdownHeadingCollapsed": true
   },
   "source": [
    "## Question 16\n",
    "\n",
    "Implement a function to check if a given list is sorted in non-decreasing order."
   ]
  },
  {
   "cell_type": "code",
   "execution_count": 118,
   "id": "07906dff-1d68-417f-b677-2913914372ac",
   "metadata": {},
   "outputs": [
    {
     "name": "stdout",
     "output_type": "stream",
     "text": [
      "True\n",
      "False\n"
     ]
    }
   ],
   "source": [
    "def is_sorted_non_decreasing(lst):\n",
    "    for i in range(len(lst) - 1):\n",
    "        if lst[i] > lst[i + 1]:\n",
    "            return False\n",
    "    return True\n",
    "\n",
    "########################### TEST\n",
    "########################### TEST\n",
    "\n",
    "\n",
    "numbers = [1, 2, 3, 4, 5]\n",
    "print(is_sorted_non_decreasing(numbers))  # Output: True\n",
    "\n",
    "numbers = [5, 2, 9, 1, 7]\n",
    "print(is_sorted_non_decreasing(numbers))  # Output: False\n"
   ]
  },
  {
   "cell_type": "markdown",
   "id": "e001bcbb-e7af-4090-a9b8-abcb8241ca28",
   "metadata": {
    "jp-MarkdownHeadingCollapsed": true
   },
   "source": [
    "## Question 17\n",
    "\n",
    "Write a Python program to find the intersection of two lists."
   ]
  },
  {
   "cell_type": "code",
   "execution_count": 126,
   "id": "5fff1150-f57e-4ff2-96b1-b41691900f6f",
   "metadata": {},
   "outputs": [
    {
     "name": "stdout",
     "output_type": "stream",
     "text": [
      "[4, 5]\n",
      "[]\n"
     ]
    }
   ],
   "source": [
    "def find_intersection(list1, list2):\n",
    "    intersection = []\n",
    "    for element in list1:\n",
    "        if element in list2:\n",
    "            intersection.append(element)\n",
    "    return intersection\n",
    "\n",
    "############################# TEST\n",
    "############################# TEST\n",
    "\n",
    "list1 = [1, 2, 3, 4, 5]\n",
    "list2 = [4, 5, 6, 7, 8]\n",
    "print(find_intersection(list1, list2))  # Output: [4, 5]\n",
    "\n",
    "\n",
    "list1 = [1, 2, 3]\n",
    "list2 = [4, 5, 6]\n",
    "print(find_intersection(list1, list2))  # Output: []\n"
   ]
  },
  {
   "cell_type": "markdown",
   "id": "ee05da45-3e5e-4bdd-a7ba-6a1c18217eb6",
   "metadata": {
    "jp-MarkdownHeadingCollapsed": true
   },
   "source": [
    "## Question 18:\n",
    "\n",
    "Implement a function to find the maximum subarray sum in a given list."
   ]
  },
  {
   "cell_type": "code",
   "execution_count": 128,
   "id": "474122e1-22f9-429e-b91a-ff78465e1eb7",
   "metadata": {},
   "outputs": [],
   "source": [
    "#### Kadanes Algorithm"
   ]
  },
  {
   "cell_type": "code",
   "execution_count": 129,
   "id": "3fd1e828-a150-4d9e-93db-d331c34464c4",
   "metadata": {},
   "outputs": [
    {
     "name": "stdout",
     "output_type": "stream",
     "text": [
      "6\n"
     ]
    }
   ],
   "source": [
    "def find_max_subarray_sum(arr):\n",
    "    if len(arr) == 0:\n",
    "        return 0\n",
    "    \n",
    "    max_sum = float('-inf')  # Initialize the maximum sum as negative infinity\n",
    "    current_sum = 0  # Initialize the current sum as 0\n",
    "    \n",
    "    for num in arr:\n",
    "        current_sum = max(num, current_sum + num)\n",
    "        max_sum = max(max_sum, current_sum)\n",
    "    \n",
    "    return max_sum\n",
    "\n",
    "############################# TEST\n",
    "############################# TEST\n",
    "\n",
    "arr = [-2, 1, -3, 4, -1, 2, 1, -5, 4]\n",
    "\n",
    "########## function call\n",
    "\n",
    "max_sum = find_max_subarray_sum(arr)\n",
    "print(max_sum)\n"
   ]
  },
  {
   "cell_type": "markdown",
   "id": "ca4c32f1-6425-4335-b334-5804ffb1b1e3",
   "metadata": {
    "jp-MarkdownHeadingCollapsed": true
   },
   "source": [
    "## Question 19\n",
    "\n",
    "Write a program to remove all vowels from a given string"
   ]
  },
  {
   "cell_type": "code",
   "execution_count": 131,
   "id": "4583bd02-eb6e-40b2-b980-b609cdf57b55",
   "metadata": {},
   "outputs": [
    {
     "name": "stdout",
     "output_type": "stream",
     "text": [
      "Hll, Wrld!\n"
     ]
    }
   ],
   "source": [
    "def remove_vowels(string):\n",
    "    vowels = ['a', 'e', 'i', 'o', 'u', 'A', 'E', 'I', 'O', 'U']\n",
    "    result = \"\"\n",
    "    \n",
    "    for char in string:\n",
    "        if char not in vowels:\n",
    "            result += char\n",
    "    \n",
    "    return result\n",
    "\n",
    "############################ TEST\n",
    "\n",
    "input_string = \"Hello, World!\"\n",
    "output_string = remove_vowels(input_string)\n",
    "print(output_string)  # Output: Hll, Wrld!"
   ]
  },
  {
   "cell_type": "markdown",
   "id": "0e00af9d-0a21-43bc-8bed-4bc6e3ebdf5e",
   "metadata": {
    "jp-MarkdownHeadingCollapsed": true
   },
   "source": [
    "## Question 20\n",
    "\n",
    "Implement a function to reverse the order of words in a given sentence"
   ]
  },
  {
   "cell_type": "raw",
   "id": "dd0ba30d-e9e3-4bdd-a297-d2c5d7e85aa5",
   "metadata": {},
   "source": [
    "def reverse_words(string):\n",
    "    str_list = string.split(' ')\n",
    "    reversed_list = ''\n",
    "    for word in str_list:\n",
    "        reversed_list = word + \" \" + reversed_list\n",
    "        \n",
    "    return reversed_list.strip()\n",
    "\n",
    "############################ TEST\n",
    "input_str = \"Hello World\"\n",
    "reversed_str = reverse_words(input_str)\n",
    "print(reversed_str)  # Output: \"World Hello\"\n"
   ]
  },
  {
   "cell_type": "code",
   "execution_count": 138,
   "id": "f298c0e4-a1d1-44ce-a190-38c5fe2c7d1b",
   "metadata": {},
   "outputs": [
    {
     "name": "stdout",
     "output_type": "stream",
     "text": [
      "Input String:  Hello, how are you?\n",
      "Reversed String:  you? are how Hello,\n"
     ]
    }
   ],
   "source": [
    "def reverse_words(sentence):\n",
    "    # Split the sentence into a list of words\n",
    "    words = sentence.split()\n",
    "    \n",
    "    # Reverse the order of words\n",
    "    reversed_words = words[::-1]\n",
    "    \n",
    "    # Join the reversed words to form a new sentence\n",
    "    reversed_sentence = ' '.join(reversed_words)\n",
    "    \n",
    "    return reversed_sentence\n",
    "\n",
    "###################### TEST\n",
    "###################### TEST\n",
    "\n",
    "input_sentence = \"Hello, how are you?\"\n",
    "output_sentence = reverse_words(input_sentence)\n",
    "\n",
    "print(\"Input String: \", input_sentence)\n",
    "print(\"Reversed String: \", output_sentence)\n"
   ]
  },
  {
   "cell_type": "markdown",
   "id": "4d6335cd-8294-4274-9395-c8ef205467d8",
   "metadata": {
    "jp-MarkdownHeadingCollapsed": true
   },
   "source": [
    "## Question 21\n",
    "\n",
    "Write a Python program to check if two strings are anagrams of each other.\n"
   ]
  },
  {
   "cell_type": "markdown",
   "id": "bce8dd2b-cc65-47cc-be4e-1f172f71df0e",
   "metadata": {},
   "source": [
    "\n",
    "To check if two strings are anagrams of each other, you can compare their sorted versions. If the sorted strings are equal, it means they contain the same characters and the same counts, and hence they are anagrams."
   ]
  },
  {
   "cell_type": "code",
   "execution_count": 139,
   "id": "8b60515c-6f9b-4a95-af82-5b916977a6b4",
   "metadata": {},
   "outputs": [
    {
     "name": "stdout",
     "output_type": "stream",
     "text": [
      "The strings are anagrams.\n"
     ]
    }
   ],
   "source": [
    "def check_anagrams(str1, str2):\n",
    "    # Convert both strings to lowercase to ignore case sensitivity\n",
    "    str1 = str1.lower()\n",
    "    str2 = str2.lower()\n",
    "\n",
    "    # Sort the characters of both strings\n",
    "    sorted_str1 = sorted(str1)\n",
    "    sorted_str2 = sorted(str2)\n",
    "\n",
    "    # Check if the sorted strings are equal\n",
    "    if sorted_str1 == sorted_str2:\n",
    "        return True\n",
    "    else:\n",
    "        return False\n",
    "\n",
    "############################ TEST\n",
    "string1 = \"listen\"\n",
    "string2 = \"silent\"\n",
    "if check_anagrams(string1, string2):\n",
    "    print(\"The strings are anagrams.\")\n",
    "else:\n",
    "    print(\"The strings are not anagrams.\")\n"
   ]
  },
  {
   "cell_type": "markdown",
   "id": "052547b8-846a-4201-899f-69bd08b815f5",
   "metadata": {
    "jp-MarkdownHeadingCollapsed": true
   },
   "source": [
    "## Question 22\n",
    "\n",
    "Implement a function to find the first non-repeating character in a string.\r"
   ]
  },
  {
   "cell_type": "code",
   "execution_count": 143,
   "id": "efbd9e28-a33c-494d-885a-737b2dc6a168",
   "metadata": {},
   "outputs": [
    {
     "name": "stdout",
     "output_type": "stream",
     "text": [
      "First non-repeating character: z\n"
     ]
    }
   ],
   "source": [
    "def find_first_non_repeating_char(string):\n",
    "    char_counts = {}  # Dictionary to store character counts\n",
    "\n",
    "    # Count the occurrences of each character\n",
    "    for char in string:\n",
    "        if char in char_counts:\n",
    "            char_counts[char] += 1\n",
    "        else:\n",
    "            char_counts[char] = 1\n",
    "\n",
    "    # Iterate through the string again and find the first non-repeating character\n",
    "    for char in string:\n",
    "        if char_counts[char] == 1:\n",
    "            return char\n",
    "\n",
    "    # If no non-repeating character found, return None\n",
    "    return None\n",
    "\n",
    "###################### Driver code\n",
    "\n",
    "input_str = \"aabbccddeezx\"\n",
    "result = find_first_non_repeating_char(input_str)\n",
    "\n",
    "if result is not None:\n",
    "    print(\"First non-repeating character:\", result)\n",
    "else:\n",
    "    print(\"No non-repeating character found.\")"
   ]
  },
  {
   "cell_type": "markdown",
   "id": "c278266e-3fd8-4cc9-8d4e-2a5c163dffa7",
   "metadata": {
    "jp-MarkdownHeadingCollapsed": true
   },
   "source": [
    "## Question 23\n",
    "\n",
    "Write a program to find the prime factors of a given number."
   ]
  },
  {
   "cell_type": "markdown",
   "id": "b237daba-62dc-4fc8-949a-4642dbd4dfd8",
   "metadata": {},
   "source": [
    "\n",
    "Prime factors of a number are the prime numbers that can divide the given number evenly without leaving a remainder. In other words, prime factors are the prime numbers that multiply together to give the original number."
   ]
  },
  {
   "cell_type": "code",
   "execution_count": 154,
   "id": "af4a41e8-7ebd-4f9d-b182-e5c7e97d1c6b",
   "metadata": {},
   "outputs": [
    {
     "name": "stdout",
     "output_type": "stream",
     "text": [
      "Prime factors of 300 : [2, 2, 3, 5, 5]\n"
     ]
    }
   ],
   "source": [
    "import math\n",
    "\n",
    "def prime_factors(n):\n",
    "    factors = []  # List to store prime factors\n",
    "\n",
    "    # Check if the number is divisible by 2\n",
    "    while n % 2 == 0:\n",
    "        factors.append(2)\n",
    "        n = n // 2\n",
    "\n",
    "    # Check for odd prime factors\n",
    "    for i in range(3, int(math.sqrt(n)) + 1, 2):\n",
    "        while n % i == 0:\n",
    "            factors.append(i)\n",
    "            n = n // i\n",
    "\n",
    "    # If the remaining number is greater than 2, it is a prime factor\n",
    "    if n > 2:\n",
    "        factors.append(n)\n",
    "\n",
    "    return factors\n",
    "\n",
    "##################### TEST\n",
    "number = 300\n",
    "result = prime_factors(number)\n",
    "print(\"Prime factors of\", number, \":\", result)\n"
   ]
  },
  {
   "cell_type": "markdown",
   "id": "6c80ece9-148f-4e50-92f0-871efbe26c2a",
   "metadata": {
    "jp-MarkdownHeadingCollapsed": true
   },
   "source": [
    "## Question 24\n",
    "\n",
    "\n",
    "Implement a function to check if a given number is a power of two"
   ]
  },
  {
   "cell_type": "code",
   "execution_count": 161,
   "id": "0ecd8a44-6213-4e13-9187-0859d88c2016",
   "metadata": {},
   "outputs": [
    {
     "name": "stdin",
     "output_type": "stream",
     "text": [
      "Enter a number:  24\n"
     ]
    },
    {
     "name": "stdout",
     "output_type": "stream",
     "text": [
      "24 is a power of two: False\n"
     ]
    }
   ],
   "source": [
    "def is_power_of_two(n):\n",
    "    if n <= 0:\n",
    "        return False\n",
    "\n",
    "    while n > 1:\n",
    "        #print(n)\n",
    "        # check if the number is odd\n",
    "        if n % 2 != 0:\n",
    "            return False\n",
    "        n = n // 2\n",
    "\n",
    "    return True\n",
    "\n",
    "\n",
    "################################ TEST\n",
    "\n",
    "number = int(input(\"Enter a number: \"))\n",
    "result = is_power_of_two(number)\n",
    "print(number, \"is a power of two:\", result)\n"
   ]
  },
  {
   "cell_type": "markdown",
   "id": "51b7550f-7939-4d31-8d2a-f97ff920a926",
   "metadata": {
    "jp-MarkdownHeadingCollapsed": true
   },
   "source": [
    "## Question 25\n",
    "\n",
    "Write a Python program to merge two sorted lists into a single sorted list."
   ]
  },
  {
   "cell_type": "code",
   "execution_count": 180,
   "id": "a5c1877f-797d-4bab-bfb9-693592219000",
   "metadata": {},
   "outputs": [
    {
     "name": "stdout",
     "output_type": "stream",
     "text": [
      "Merged list: [0, 1, 2, 3, 4, 5, 6, 7, 8, 9, 20, 21, 24]\n"
     ]
    }
   ],
   "source": [
    "def merge_sorted_lists(list1, list2):\n",
    "    merged_list = []\n",
    "    i = 0\n",
    "    j = 0\n",
    "\n",
    "    while i < len(list1) and j < len(list2):\n",
    "        if list1[i] <= list2[j]:\n",
    "            merged_list.append(list1[i])\n",
    "            i += 1\n",
    "        else:\n",
    "            merged_list.append(list2[j])\n",
    "            j += 1\n",
    "\n",
    "    # Append the remaining elements of list1, if any\n",
    "    while i < len(list1):\n",
    "        merged_list.append(list1[i])\n",
    "        i += 1\n",
    "\n",
    "    # Append the remaining elements of list2, if any\n",
    "    while j < len(list2):\n",
    "        merged_list.append(list2[j])\n",
    "        j += 1\n",
    "\n",
    "    return merged_list\n",
    "\n",
    "############################### TEST\n",
    "\n",
    "list1 = [1, 3, 5, 7, 21]\n",
    "list2 = [0, 2, 4, 6, 8, 9, 20,24]\n",
    "\n",
    "merged_list = merge_sorted_lists(list1, list2)\n",
    "print(\"Merged list:\", merged_list)\n"
   ]
  },
  {
   "cell_type": "markdown",
   "id": "99536ca6-3d9e-46de-8dc6-2fb316dbfadc",
   "metadata": {
    "jp-MarkdownHeadingCollapsed": true
   },
   "source": [
    "## Question 26\n",
    "\n",
    "Implement a function to find the mode of a list of numbers.\n"
   ]
  },
  {
   "cell_type": "code",
   "execution_count": 181,
   "id": "914b83ab-fd2b-4547-b9e8-649a83790910",
   "metadata": {},
   "outputs": [
    {
     "name": "stdout",
     "output_type": "stream",
     "text": [
      "Mode: 2\n"
     ]
    }
   ],
   "source": [
    "import statistics\n",
    "\n",
    "def find_mode(numbers):\n",
    "    mode = statistics.mode(numbers)\n",
    "    return mode\n",
    "\n",
    "\n",
    "################ TEST\n",
    "\n",
    "numbers = [1, 2, 3, 2, 4, 5, 2, 6, 2, 7, 2, 8, 9, 2, 10]\n",
    "mode = find_mode(numbers)\n",
    "print(\"Mode:\", mode)\n"
   ]
  },
  {
   "cell_type": "markdown",
   "id": "e9113872-8d1f-4087-ae62-14251a51589f",
   "metadata": {},
   "source": [
    "## Question 27\n",
    "\n",
    "Write a program to find the greatest common divisor (GCD) or HCF of two numbers."
   ]
  },
  {
   "cell_type": "code",
   "execution_count": 188,
   "id": "c9c6e09d-8818-4a4c-b7be-5a81dbef37db",
   "metadata": {},
   "outputs": [
    {
     "name": "stdout",
     "output_type": "stream",
     "text": [
      "GCD: 12\n"
     ]
    }
   ],
   "source": [
    "def find_gcd(a, b):\n",
    "    while b:\n",
    "        #print([a,b])\n",
    "        a, b = b, a % b\n",
    "    return a\n",
    "\n",
    "############################ TEST\n",
    "\n",
    "num1 = 24\n",
    "num2 = 36\n",
    "\n",
    "gcd = find_gcd(num1, num2)\n",
    "print(\"GCD:\", gcd)\n"
   ]
  },
  {
   "cell_type": "code",
   "execution_count": null,
   "id": "3061c381-a548-4bb0-a558-5cea4dc868e8",
   "metadata": {},
   "outputs": [],
   "source": []
  }
 ],
 "metadata": {
  "kernelspec": {
   "display_name": "Python 3 (ipykernel)",
   "language": "python",
   "name": "python3"
  },
  "language_info": {
   "codemirror_mode": {
    "name": "ipython",
    "version": 3
   },
   "file_extension": ".py",
   "mimetype": "text/x-python",
   "name": "python",
   "nbconvert_exporter": "python",
   "pygments_lexer": "ipython3",
   "version": "3.10.8"
  }
 },
 "nbformat": 4,
 "nbformat_minor": 5
}

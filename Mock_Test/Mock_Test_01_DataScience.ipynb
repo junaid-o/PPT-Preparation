{
 "cells": [
  {
   "cell_type": "markdown",
   "id": "a5f1f8db-6311-49a4-85f9-a1dc0428f47b",
   "metadata": {},
   "source": [
    "# <center>MockTest_01 DataScience</center>"
   ]
  },
  {
   "cell_type": "markdown",
   "id": "e0ec9b4e-f802-44bd-8c96-f0e5db1a1cb1",
   "metadata": {},
   "source": [
    "### Question: 17\n",
    "Write a function that takes a list of numbers as input and returns a new list containing only the even numbers from the input list. Use list comprehension to solve this problem."
   ]
  },
  {
   "cell_type": "code",
   "execution_count": 2,
   "id": "c5e3f7ec-e20f-42a3-a941-a1395bc06021",
   "metadata": {},
   "outputs": [
    {
     "name": "stdout",
     "output_type": "stream",
     "text": [
      "Input list:  [1, 2, 3, 4, 5, 6, 7, 8, 9, 10]\n",
      "Output List with even numbers [2, 4, 6, 8, 10]\n"
     ]
    }
   ],
   "source": [
    "def get_even_numbers(numbers):\n",
    "    return [num for num in numbers if num % 2 == 0]\n",
    "\n",
    "\n",
    "############### TEST\n",
    "############### TEST\n",
    "\n",
    "input_list = [1, 2, 3, 4, 5, 6, 7, 8, 9, 10]\n",
    "output_list = get_even_numbers(input_list)\n",
    "\n",
    "print(\"Input list: \", input_list)\n",
    "print(\"Output List with even numbers\", output_list)"
   ]
  },
  {
   "cell_type": "markdown",
   "id": "a216bd88-c8b2-4a89-9151-197ad3ef83e5",
   "metadata": {},
   "source": [
    "### Question 18\n",
    "\n",
    "Implement a decorator function called ‘timer’ that measures the execution time of a function. The ‘timer’ decorator should print the time taken by the decorated function to execute. Use the ‘time’ module in Python to calculate the execution time."
   ]
  },
  {
   "cell_type": "code",
   "execution_count": 3,
   "id": "de1056f1-b5c0-45ba-859d-89068a0a8ab4",
   "metadata": {},
   "outputs": [
    {
     "name": "stdout",
     "output_type": "stream",
     "text": [
      "Execution time: 2.00286 seconds\n"
     ]
    }
   ],
   "source": [
    "import time\n",
    "\n",
    "def timer(func):\n",
    "    def wrapper(*args, **kwargs):\n",
    "        start_time = time.time()\n",
    "        result = func(*args, **kwargs)\n",
    "        end_time = time.time()\n",
    "        execution_time = end_time - start_time\n",
    "        print(f\"Execution time: {execution_time:.5f} seconds\")\n",
    "        return result\n",
    "    return wrapper\n",
    "\n",
    "@timer\n",
    "def my_function():\n",
    "    # Function code goes here\n",
    "    time.sleep(2)\n",
    "\n",
    "my_function()\n"
   ]
  },
  {
   "cell_type": "markdown",
   "id": "f9cfa5fc-2342-48ab-97b5-591430eba8f7",
   "metadata": {},
   "source": [
    "### Question 19\n",
    "Write a function called ‘calculate_mean’ that takes a list of numbers as input and returns the mean (average) of the numbers. The function should calculate the mean using the sum of the numbers divided by the total count."
   ]
  },
  {
   "cell_type": "code",
   "execution_count": 7,
   "id": "6ea35682-63c1-43b6-8ffa-819bba17cba1",
   "metadata": {},
   "outputs": [
    {
     "name": "stdout",
     "output_type": "stream",
     "text": [
      "35.0\n"
     ]
    }
   ],
   "source": [
    "def calculate_mean(numbers):\n",
    "    total = sum(numbers)\n",
    "    count = len(numbers)\n",
    "    mean = total / count\n",
    "    return mean\n",
    "\n",
    "########### TEST \n",
    "########### TEST\n",
    "\n",
    "numbers_list = [10, 20, 30, 40, 50,60]\n",
    "mean_value = calculate_mean(numbers_list)\n",
    "print(mean_value)\n"
   ]
  },
  {
   "cell_type": "markdown",
   "id": "1f4c8768-ce14-4627-993b-b388148309e6",
   "metadata": {},
   "source": [
    "### Question 20\n",
    "\n",
    "Write a function called ‘perform_hypothesis_test’ that takes two lists of numbers as input, representing two samples. The function should perform a two-sample t-test and return the p-value. Use the ‘scipy.stats’ module in Python to calculate the t-test and p-value.\n"
   ]
  },
  {
   "cell_type": "code",
   "execution_count": 8,
   "id": "dad94bd9-9647-4146-be6d-4b2e0bcc1c93",
   "metadata": {},
   "outputs": [
    {
     "name": "stdout",
     "output_type": "stream",
     "text": [
      "0.001052825793366539\n"
     ]
    }
   ],
   "source": [
    "from scipy import stats\n",
    "\n",
    "def perform_hypothesis_test(sample1, sample2):\n",
    "    t_statistic, p_value = stats.ttest_ind(sample1, sample2)\n",
    "    return p_value\n",
    "\n",
    "################# TEST\n",
    "\n",
    "sample1 = [1, 2, 3, 4, 5]\n",
    "sample2 = [6, 7, 8, 9, 10]\n",
    "p_value = perform_hypothesis_test(sample1, sample2)\n",
    "print(p_value)\n"
   ]
  },
  {
   "cell_type": "code",
   "execution_count": null,
   "id": "0ff9852e-ef1a-4f75-8bea-d838d0ba4f67",
   "metadata": {},
   "outputs": [],
   "source": []
  }
 ],
 "metadata": {
  "kernelspec": {
   "display_name": "Python 3 (ipykernel)",
   "language": "python",
   "name": "python3"
  },
  "language_info": {
   "codemirror_mode": {
    "name": "ipython",
    "version": 3
   },
   "file_extension": ".py",
   "mimetype": "text/x-python",
   "name": "python",
   "nbconvert_exporter": "python",
   "pygments_lexer": "ipython3",
   "version": "3.10.8"
  }
 },
 "nbformat": 4,
 "nbformat_minor": 5
}

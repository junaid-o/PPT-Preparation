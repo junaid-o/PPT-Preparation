{
 "cells": [
  {
   "cell_type": "markdown",
   "id": "9f6ea70f-eced-45b2-ba99-af2d4b6b4eb9",
   "metadata": {},
   "source": [
    "### Question\n",
    "\n",
    "**Implement a stack using a list in Python. Include the necessary methods such as push, pop, and isEmpty.**"
   ]
  },
  {
   "cell_type": "code",
   "execution_count": 9,
   "id": "29dff54c-0794-4355-a55e-9edc09f2dd34",
   "metadata": {},
   "outputs": [],
   "source": [
    "class Stack:\n",
    "    def __init__(self):\n",
    "        self.stack = []\n",
    "\n",
    "    def push(self, item):\n",
    "        self.stack.append(item)\n",
    "\n",
    "    def pop(self):\n",
    "        if self.isEmpty():\n",
    "            raise IndexError(\"Stack is empty\")\n",
    "        return self.stack.pop()\n",
    "\n",
    "    def isEmpty(self):\n",
    "        return len(self.stack) == 0\n"
   ]
  },
  {
   "cell_type": "code",
   "execution_count": 10,
   "id": "5b1ce8df-3ab0-47eb-9b2a-2ba1f9f1713c",
   "metadata": {},
   "outputs": [],
   "source": [
    "#################### TEST\n",
    "#################### TEST"
   ]
  },
  {
   "cell_type": "code",
   "execution_count": 11,
   "id": "fb4ebf53-50c2-440f-a663-599745a94028",
   "metadata": {},
   "outputs": [
    {
     "name": "stdout",
     "output_type": "stream",
     "text": [
      "True\n"
     ]
    }
   ],
   "source": [
    "stack = Stack()\n",
    "print(stack.isEmpty())  # Output: True"
   ]
  },
  {
   "cell_type": "code",
   "execution_count": 12,
   "id": "51e8ee68-3872-47ec-8253-93d29a1d373b",
   "metadata": {},
   "outputs": [],
   "source": [
    "stack.push(1)\n",
    "stack.push(2)\n",
    "stack.push(3)"
   ]
  },
  {
   "cell_type": "code",
   "execution_count": 13,
   "id": "3411aa97-3c63-4759-b095-5b7556f6a578",
   "metadata": {},
   "outputs": [
    {
     "name": "stdout",
     "output_type": "stream",
     "text": [
      "3\n",
      "2\n"
     ]
    }
   ],
   "source": [
    "print(stack.pop())  # Output: 3\n",
    "print(stack.pop())  # Output: 2"
   ]
  },
  {
   "cell_type": "code",
   "execution_count": 14,
   "id": "093b3335-d5da-42dd-bcb9-fdb5ca6cb751",
   "metadata": {},
   "outputs": [
    {
     "name": "stdout",
     "output_type": "stream",
     "text": [
      "False\n"
     ]
    }
   ],
   "source": [
    "print(stack.isEmpty())  # Output: False"
   ]
  },
  {
   "cell_type": "markdown",
   "id": "40d31938-b476-45de-b3e2-3a5d17cb6ed0",
   "metadata": {},
   "source": [
    "### Question\n",
    "\n",
    "**Implement a queue using a list in Python. Include the necessary methods such as enqueue, dequeue, and isEmpty.**"
   ]
  },
  {
   "cell_type": "code",
   "execution_count": 15,
   "id": "f71817a7-9bc6-41ed-9e3d-6a1c8064a106",
   "metadata": {},
   "outputs": [],
   "source": [
    "class Queue:\n",
    "    def __init__(self):\n",
    "        self.queue = []\n",
    "\n",
    "    def enqueue(self, item):\n",
    "        self.queue.append(item)\n",
    "\n",
    "    def dequeue(self):\n",
    "        if self.isEmpty():\n",
    "            raise IndexError(\"Queue is empty\")\n",
    "        return self.queue.pop(0)\n",
    "\n",
    "    def isEmpty(self):\n",
    "        return len(self.queue) == 0\n"
   ]
  },
  {
   "cell_type": "code",
   "execution_count": 16,
   "id": "fdf2d14b-1c80-4772-a502-60c8ce7a8333",
   "metadata": {},
   "outputs": [],
   "source": [
    "################ TEST\n",
    "################ TEST"
   ]
  },
  {
   "cell_type": "code",
   "execution_count": 17,
   "id": "d9ea583f-d2e4-4ffe-8425-77413cb8aad5",
   "metadata": {},
   "outputs": [
    {
     "name": "stdout",
     "output_type": "stream",
     "text": [
      "True\n"
     ]
    }
   ],
   "source": [
    "queue = Queue()\n",
    "print(queue.isEmpty())  # Output: True"
   ]
  },
  {
   "cell_type": "code",
   "execution_count": 18,
   "id": "22e87ea6-1d4f-4bc7-81d7-25822fcfa29c",
   "metadata": {},
   "outputs": [],
   "source": [
    "queue.enqueue(1)\n",
    "queue.enqueue(2)\n",
    "queue.enqueue(3)"
   ]
  },
  {
   "cell_type": "code",
   "execution_count": 19,
   "id": "3f4f4cd8-f913-4a3b-833a-f8f27fb0ac7b",
   "metadata": {},
   "outputs": [
    {
     "name": "stdout",
     "output_type": "stream",
     "text": [
      "1\n",
      "2\n",
      "False\n"
     ]
    }
   ],
   "source": [
    "print(queue.dequeue())  # Output: 1\n",
    "print(queue.dequeue())  # Output: 2\n",
    "\n",
    "print(queue.isEmpty())  # Output: False"
   ]
  },
  {
   "cell_type": "code",
   "execution_count": null,
   "id": "75d969bf-9e50-42de-89f2-196a7c67975a",
   "metadata": {},
   "outputs": [],
   "source": []
  },
  {
   "cell_type": "code",
   "execution_count": null,
   "id": "14741736-b5da-4549-961d-9918a4731f43",
   "metadata": {},
   "outputs": [],
   "source": []
  }
 ],
 "metadata": {
  "kernelspec": {
   "display_name": "Python 3 (ipykernel)",
   "language": "python",
   "name": "python3"
  },
  "language_info": {
   "codemirror_mode": {
    "name": "ipython",
    "version": 3
   },
   "file_extension": ".py",
   "mimetype": "text/x-python",
   "name": "python",
   "nbconvert_exporter": "python",
   "pygments_lexer": "ipython3",
   "version": "3.10.8"
  }
 },
 "nbformat": 4,
 "nbformat_minor": 5
}
